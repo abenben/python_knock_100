{
  "nbformat": 4,
  "nbformat_minor": 0,
  "metadata": {
    "colab": {
      "name": "python_knocks001.ipynb",
      "provenance": [],
      "private_outputs": true,
      "include_colab_link": true
    },
    "kernelspec": {
      "name": "python3",
      "display_name": "Python 3"
    }
  },
  "cells": [
    {
      "cell_type": "markdown",
      "metadata": {
        "id": "view-in-github",
        "colab_type": "text"
      },
      "source": [
        "<a href=\"https://colab.research.google.com/github/abenben/python_knock_100/blob/master/python_knocks001.ipynb\" target=\"_parent\"><img src=\"https://colab.research.google.com/assets/colab-badge.svg\" alt=\"Open In Colab\"/></a>"
      ]
    },
    {
      "cell_type": "code",
      "metadata": {
        "id": "TFnwYBAqi1n7",
        "colab_type": "code",
        "colab": {}
      },
      "source": [
        "from google.colab import drive\n",
        "drive.mount('/content/drive')"
      ],
      "execution_count": null,
      "outputs": []
    },
    {
      "cell_type": "markdown",
      "metadata": {
        "id": "NvSY4trQljvF",
        "colab_type": "text"
      },
      "source": [
        "# ノック1:データを読み込んでみよう"
      ]
    },
    {
      "cell_type": "code",
      "metadata": {
        "id": "UBP1s-HdjrSS",
        "colab_type": "code",
        "colab": {}
      },
      "source": [
        "import pandas as pd\n",
        "customer_master = pd.read_csv('/content/drive/My Drive/customer_master.csv')\n",
        "customer_master.head()"
      ],
      "execution_count": null,
      "outputs": []
    },
    {
      "cell_type": "code",
      "metadata": {
        "id": "SL8AQ_NHkOTc",
        "colab_type": "code",
        "colab": {}
      },
      "source": [
        "item_master = pd.read_csv('/content/drive/My Drive/item_master.csv')\n",
        "item_master.head()"
      ],
      "execution_count": null,
      "outputs": []
    },
    {
      "cell_type": "code",
      "metadata": {
        "id": "-adogGU-kxLQ",
        "colab_type": "code",
        "colab": {}
      },
      "source": [
        "transaction_1 = pd.read_csv('/content/drive/My Drive/transaction_1.csv')\n",
        "transaction_1.head()"
      ],
      "execution_count": null,
      "outputs": []
    },
    {
      "cell_type": "code",
      "metadata": {
        "id": "SobWqXuMk9F6",
        "colab_type": "code",
        "colab": {}
      },
      "source": [
        "transaction_detail_1 = pd.read_csv('/content/drive/My Drive/transaction_detail_1.csv')\n",
        "transaction_detail_1.head()"
      ],
      "execution_count": null,
      "outputs": []
    },
    {
      "cell_type": "markdown",
      "metadata": {
        "id": "k8guUWzJlpR8",
        "colab_type": "text"
      },
      "source": [
        "# ノック2：データを結合（ユニオン）してみよう"
      ]
    },
    {
      "cell_type": "code",
      "metadata": {
        "id": "9FXcWhrQlbEV",
        "colab_type": "code",
        "colab": {}
      },
      "source": [
        "transaction_2 = pd.read_csv('/content/drive/My Drive/transaction_2.csv')\n",
        "transaction = pd.concat([transaction_1,transaction_2], ignore_index=True)\n",
        "transaction.head()"
      ],
      "execution_count": null,
      "outputs": []
    },
    {
      "cell_type": "code",
      "metadata": {
        "id": "Zft1yKZlmDk6",
        "colab_type": "code",
        "colab": {}
      },
      "source": [
        "print(len(transaction_1))\n",
        "print(len(transaction_2))\n",
        "print(len(transaction))"
      ],
      "execution_count": null,
      "outputs": []
    },
    {
      "cell_type": "code",
      "metadata": {
        "id": "aSxwqV2jmjmk",
        "colab_type": "code",
        "colab": {}
      },
      "source": [
        "transaction_detail_2 = pd.read_csv('/content/drive/My Drive/transaction_detail_2.csv')\n",
        "transaction_detail = pd.concat([transaction_detail_1,transaction_detail_2], ignore_index=True)\n",
        "transaction_detail.head()"
      ],
      "execution_count": null,
      "outputs": []
    },
    {
      "cell_type": "code",
      "metadata": {
        "id": "zgZiT1uPmulN",
        "colab_type": "code",
        "colab": {}
      },
      "source": [
        "print(len(transaction_detail_1))\n",
        "print(len(transaction_detail_2))\n",
        "print(len(transaction_detail))"
      ],
      "execution_count": null,
      "outputs": []
    },
    {
      "cell_type": "markdown",
      "metadata": {
        "id": "gx0i91QErTnu",
        "colab_type": "text"
      },
      "source": [
        "# ノック3：売上データ同士を結合（ジョイン）してみよう"
      ]
    },
    {
      "cell_type": "code",
      "metadata": {
        "id": "r7vWnSgpmz-B",
        "colab_type": "code",
        "colab": {}
      },
      "source": [
        "join_data = pd.merge(transaction_detail, transaction[[\"transaction_id\",\"payment_date\",\"customer_id\"]], on=\"transaction_id\", how=\"left\")\n",
        "join_data.head()"
      ],
      "execution_count": null,
      "outputs": []
    },
    {
      "cell_type": "code",
      "metadata": {
        "id": "4cQT11dUsTLl",
        "colab_type": "code",
        "colab": {}
      },
      "source": [
        "print(len(transaction_detail))\n",
        "print(len(transaction))\n",
        "print(len(join_data))"
      ],
      "execution_count": null,
      "outputs": []
    },
    {
      "cell_type": "markdown",
      "metadata": {
        "id": "EGAD3dm8tZZX",
        "colab_type": "text"
      },
      "source": [
        "# ノック4:　マスターデータを結合（ジョイン）してみよう"
      ]
    },
    {
      "cell_type": "code",
      "metadata": {
        "id": "VZ4jwNjFsynL",
        "colab_type": "code",
        "colab": {}
      },
      "source": [
        "join_data = pd.merge(join_data, customer_master, on=\"customer_id\", how=\"left\")\n",
        "join_data = pd.merge(join_data, item_master, on=\"item_id\", how=\"left\")\n",
        "join_data.head()"
      ],
      "execution_count": null,
      "outputs": []
    },
    {
      "cell_type": "markdown",
      "metadata": {
        "id": "MiScjP3OtXXV",
        "colab_type": "text"
      },
      "source": [
        ""
      ]
    },
    {
      "cell_type": "code",
      "metadata": {
        "id": "nVAYIC-_tLwz",
        "colab_type": "code",
        "colab": {}
      },
      "source": [
        ""
      ],
      "execution_count": null,
      "outputs": []
    }
  ]
}