{
 "cells": [
  {
   "cell_type": "code",
   "execution_count": 1,
   "outputs": [],
   "source": [
    "import warnings\n",
    "warnings.filterwarnings('ignore')"
   ],
   "metadata": {
    "collapsed": false
   }
  },
  {
   "cell_type": "markdown",
   "source": [
    "# アンケート分析を行うための言語処理１０本ノック"
   ],
   "metadata": {
    "collapsed": false
   }
  },
  {
   "cell_type": "markdown",
   "source": [
    "## ノック91"
   ],
   "metadata": {
    "collapsed": false
   }
  },
  {
   "cell_type": "code",
   "execution_count": 2,
   "outputs": [
    {
     "name": "stdout",
     "output_type": "stream",
     "text": [
      "86\n"
     ]
    },
    {
     "data": {
      "text/plain": "    datetime            comment  satisfaction\n0  2019/3/11  駅前に若者が集まっている(AA駅)             1\n1  2019/2/25   スポーツできる場所があるのが良い             5\n2  2019/2/18          子育て支援が嬉しい             5\n3   2019/4/9    保育園に入れる（待機児童なし）             4\n4   2019/1/6          駅前商店街が寂しい             2",
      "text/html": "<div>\n<style scoped>\n    .dataframe tbody tr th:only-of-type {\n        vertical-align: middle;\n    }\n\n    .dataframe tbody tr th {\n        vertical-align: top;\n    }\n\n    .dataframe thead th {\n        text-align: right;\n    }\n</style>\n<table border=\"1\" class=\"dataframe\">\n  <thead>\n    <tr style=\"text-align: right;\">\n      <th></th>\n      <th>datetime</th>\n      <th>comment</th>\n      <th>satisfaction</th>\n    </tr>\n  </thead>\n  <tbody>\n    <tr>\n      <th>0</th>\n      <td>2019/3/11</td>\n      <td>駅前に若者が集まっている(AA駅)</td>\n      <td>1</td>\n    </tr>\n    <tr>\n      <th>1</th>\n      <td>2019/2/25</td>\n      <td>スポーツできる場所があるのが良い</td>\n      <td>5</td>\n    </tr>\n    <tr>\n      <th>2</th>\n      <td>2019/2/18</td>\n      <td>子育て支援が嬉しい</td>\n      <td>5</td>\n    </tr>\n    <tr>\n      <th>3</th>\n      <td>2019/4/9</td>\n      <td>保育園に入れる（待機児童なし）</td>\n      <td>4</td>\n    </tr>\n    <tr>\n      <th>4</th>\n      <td>2019/1/6</td>\n      <td>駅前商店街が寂しい</td>\n      <td>2</td>\n    </tr>\n  </tbody>\n</table>\n</div>"
     },
     "execution_count": 2,
     "metadata": {},
     "output_type": "execute_result"
    }
   ],
   "source": [
    "import pandas as pd\n",
    "survey = pd.read_csv(\"survey.csv\")\n",
    "print(len(survey))\n",
    "survey.head()"
   ],
   "metadata": {
    "collapsed": false
   }
  },
  {
   "cell_type": "code",
   "execution_count": 3,
   "outputs": [
    {
     "data": {
      "text/plain": "datetime        0\ncomment         2\nsatisfaction    0\ndtype: int64"
     },
     "execution_count": 3,
     "metadata": {},
     "output_type": "execute_result"
    }
   ],
   "source": [
    "survey.isna().sum()"
   ],
   "metadata": {
    "collapsed": false
   }
  },
  {
   "cell_type": "code",
   "execution_count": 4,
   "outputs": [
    {
     "data": {
      "text/plain": "datetime        0\ncomment         0\nsatisfaction    0\ndtype: int64"
     },
     "execution_count": 4,
     "metadata": {},
     "output_type": "execute_result"
    }
   ],
   "source": [
    "survey = survey.dropna()\n",
    "survey.isna().sum()"
   ],
   "metadata": {
    "collapsed": false
   }
  },
  {
   "cell_type": "markdown",
   "source": [
    "## ノック92"
   ],
   "metadata": {
    "collapsed": false
   }
  },
  {
   "cell_type": "code",
   "execution_count": 5,
   "outputs": [
    {
     "data": {
      "text/plain": "    datetime           comment  satisfaction\n0  2019/3/11   駅前に若者が集まっている(駅)             1\n1  2019/2/25  スポーツできる場所があるのが良い             5\n2  2019/2/18         子育て支援が嬉しい             5\n3   2019/4/9   保育園に入れる（待機児童なし）             4\n4   2019/1/6         駅前商店街が寂しい             2",
      "text/html": "<div>\n<style scoped>\n    .dataframe tbody tr th:only-of-type {\n        vertical-align: middle;\n    }\n\n    .dataframe tbody tr th {\n        vertical-align: top;\n    }\n\n    .dataframe thead th {\n        text-align: right;\n    }\n</style>\n<table border=\"1\" class=\"dataframe\">\n  <thead>\n    <tr style=\"text-align: right;\">\n      <th></th>\n      <th>datetime</th>\n      <th>comment</th>\n      <th>satisfaction</th>\n    </tr>\n  </thead>\n  <tbody>\n    <tr>\n      <th>0</th>\n      <td>2019/3/11</td>\n      <td>駅前に若者が集まっている(駅)</td>\n      <td>1</td>\n    </tr>\n    <tr>\n      <th>1</th>\n      <td>2019/2/25</td>\n      <td>スポーツできる場所があるのが良い</td>\n      <td>5</td>\n    </tr>\n    <tr>\n      <th>2</th>\n      <td>2019/2/18</td>\n      <td>子育て支援が嬉しい</td>\n      <td>5</td>\n    </tr>\n    <tr>\n      <th>3</th>\n      <td>2019/4/9</td>\n      <td>保育園に入れる（待機児童なし）</td>\n      <td>4</td>\n    </tr>\n    <tr>\n      <th>4</th>\n      <td>2019/1/6</td>\n      <td>駅前商店街が寂しい</td>\n      <td>2</td>\n    </tr>\n  </tbody>\n</table>\n</div>"
     },
     "execution_count": 5,
     "metadata": {},
     "output_type": "execute_result"
    }
   ],
   "source": [
    "survey[\"comment\"] = survey[\"comment\"].str.replace(\"AA\", \"\")\n",
    "survey.head()"
   ],
   "metadata": {
    "collapsed": false
   }
  },
  {
   "cell_type": "code",
   "execution_count": 6,
   "outputs": [
    {
     "data": {
      "text/plain": "    datetime           comment  satisfaction\n0  2019/3/11      駅前に若者が集まっている             1\n1  2019/2/25  スポーツできる場所があるのが良い             5\n2  2019/2/18         子育て支援が嬉しい             5\n3   2019/4/9   保育園に入れる（待機児童なし）             4\n4   2019/1/6         駅前商店街が寂しい             2",
      "text/html": "<div>\n<style scoped>\n    .dataframe tbody tr th:only-of-type {\n        vertical-align: middle;\n    }\n\n    .dataframe tbody tr th {\n        vertical-align: top;\n    }\n\n    .dataframe thead th {\n        text-align: right;\n    }\n</style>\n<table border=\"1\" class=\"dataframe\">\n  <thead>\n    <tr style=\"text-align: right;\">\n      <th></th>\n      <th>datetime</th>\n      <th>comment</th>\n      <th>satisfaction</th>\n    </tr>\n  </thead>\n  <tbody>\n    <tr>\n      <th>0</th>\n      <td>2019/3/11</td>\n      <td>駅前に若者が集まっている</td>\n      <td>1</td>\n    </tr>\n    <tr>\n      <th>1</th>\n      <td>2019/2/25</td>\n      <td>スポーツできる場所があるのが良い</td>\n      <td>5</td>\n    </tr>\n    <tr>\n      <th>2</th>\n      <td>2019/2/18</td>\n      <td>子育て支援が嬉しい</td>\n      <td>5</td>\n    </tr>\n    <tr>\n      <th>3</th>\n      <td>2019/4/9</td>\n      <td>保育園に入れる（待機児童なし）</td>\n      <td>4</td>\n    </tr>\n    <tr>\n      <th>4</th>\n      <td>2019/1/6</td>\n      <td>駅前商店街が寂しい</td>\n      <td>2</td>\n    </tr>\n  </tbody>\n</table>\n</div>"
     },
     "execution_count": 6,
     "metadata": {},
     "output_type": "execute_result"
    }
   ],
   "source": [
    "survey[\"comment\"] = survey[\"comment\"].str.replace(\"\\(.+?\\)\", \"\", regex=True)\n",
    "survey.head()"
   ],
   "metadata": {
    "collapsed": false
   }
  },
  {
   "cell_type": "code",
   "execution_count": 7,
   "outputs": [
    {
     "data": {
      "text/plain": "    datetime           comment  satisfaction\n0  2019/3/11      駅前に若者が集まっている             1\n1  2019/2/25  スポーツできる場所があるのが良い             5\n2  2019/2/18         子育て支援が嬉しい             5\n3   2019/4/9           保育園に入れる             4\n4   2019/1/6         駅前商店街が寂しい             2",
      "text/html": "<div>\n<style scoped>\n    .dataframe tbody tr th:only-of-type {\n        vertical-align: middle;\n    }\n\n    .dataframe tbody tr th {\n        vertical-align: top;\n    }\n\n    .dataframe thead th {\n        text-align: right;\n    }\n</style>\n<table border=\"1\" class=\"dataframe\">\n  <thead>\n    <tr style=\"text-align: right;\">\n      <th></th>\n      <th>datetime</th>\n      <th>comment</th>\n      <th>satisfaction</th>\n    </tr>\n  </thead>\n  <tbody>\n    <tr>\n      <th>0</th>\n      <td>2019/3/11</td>\n      <td>駅前に若者が集まっている</td>\n      <td>1</td>\n    </tr>\n    <tr>\n      <th>1</th>\n      <td>2019/2/25</td>\n      <td>スポーツできる場所があるのが良い</td>\n      <td>5</td>\n    </tr>\n    <tr>\n      <th>2</th>\n      <td>2019/2/18</td>\n      <td>子育て支援が嬉しい</td>\n      <td>5</td>\n    </tr>\n    <tr>\n      <th>3</th>\n      <td>2019/4/9</td>\n      <td>保育園に入れる</td>\n      <td>4</td>\n    </tr>\n    <tr>\n      <th>4</th>\n      <td>2019/1/6</td>\n      <td>駅前商店街が寂しい</td>\n      <td>2</td>\n    </tr>\n  </tbody>\n</table>\n</div>"
     },
     "execution_count": 7,
     "metadata": {},
     "output_type": "execute_result"
    }
   ],
   "source": [
    "survey[\"comment\"] = survey[\"comment\"].str.replace(\"\\（.+?\\）\", \"\", regex=True)\n",
    "survey.head()"
   ],
   "metadata": {
    "collapsed": false
   }
  },
  {
   "cell_type": "code",
   "execution_count": 8,
   "outputs": [
    {
     "data": {
      "text/plain": "    datetime           comment  satisfaction\n0  2019/3/11      駅前に若者が集まっている             1\n1  2019/2/25  スポーツできる場所があるのが良い             5\n2  2019/2/18         子育て支援が嬉しい             5\n3   2019/4/9           保育園に入れる             4\n4   2019/1/6         駅前商店街が寂しい             2",
      "text/html": "<div>\n<style scoped>\n    .dataframe tbody tr th:only-of-type {\n        vertical-align: middle;\n    }\n\n    .dataframe tbody tr th {\n        vertical-align: top;\n    }\n\n    .dataframe thead th {\n        text-align: right;\n    }\n</style>\n<table border=\"1\" class=\"dataframe\">\n  <thead>\n    <tr style=\"text-align: right;\">\n      <th></th>\n      <th>datetime</th>\n      <th>comment</th>\n      <th>satisfaction</th>\n    </tr>\n  </thead>\n  <tbody>\n    <tr>\n      <th>0</th>\n      <td>2019/3/11</td>\n      <td>駅前に若者が集まっている</td>\n      <td>1</td>\n    </tr>\n    <tr>\n      <th>1</th>\n      <td>2019/2/25</td>\n      <td>スポーツできる場所があるのが良い</td>\n      <td>5</td>\n    </tr>\n    <tr>\n      <th>2</th>\n      <td>2019/2/18</td>\n      <td>子育て支援が嬉しい</td>\n      <td>5</td>\n    </tr>\n    <tr>\n      <th>3</th>\n      <td>2019/4/9</td>\n      <td>保育園に入れる</td>\n      <td>4</td>\n    </tr>\n    <tr>\n      <th>4</th>\n      <td>2019/1/6</td>\n      <td>駅前商店街が寂しい</td>\n      <td>2</td>\n    </tr>\n  </tbody>\n</table>\n</div>"
     },
     "execution_count": 8,
     "metadata": {},
     "output_type": "execute_result"
    }
   ],
   "source": [
    "survey[\"comment\"] = survey[\"comment\"].str.replace(\"\\（.+?\\）\", \"\", regex=True)\n",
    "survey.head()"
   ],
   "metadata": {
    "collapsed": false
   }
  },
  {
   "cell_type": "markdown",
   "source": [
    "## ノック93"
   ],
   "metadata": {
    "collapsed": false
   }
  },
  {
   "cell_type": "code",
   "execution_count": 9,
   "outputs": [
    {
     "data": {
      "text/plain": "    datetime           comment  satisfaction  length\n0  2019/3/11      駅前に若者が集まっている             1      12\n1  2019/2/25  スポーツできる場所があるのが良い             5      16\n2  2019/2/18         子育て支援が嬉しい             5       9\n3   2019/4/9           保育園に入れる             4       7\n4   2019/1/6         駅前商店街が寂しい             2       9",
      "text/html": "<div>\n<style scoped>\n    .dataframe tbody tr th:only-of-type {\n        vertical-align: middle;\n    }\n\n    .dataframe tbody tr th {\n        vertical-align: top;\n    }\n\n    .dataframe thead th {\n        text-align: right;\n    }\n</style>\n<table border=\"1\" class=\"dataframe\">\n  <thead>\n    <tr style=\"text-align: right;\">\n      <th></th>\n      <th>datetime</th>\n      <th>comment</th>\n      <th>satisfaction</th>\n      <th>length</th>\n    </tr>\n  </thead>\n  <tbody>\n    <tr>\n      <th>0</th>\n      <td>2019/3/11</td>\n      <td>駅前に若者が集まっている</td>\n      <td>1</td>\n      <td>12</td>\n    </tr>\n    <tr>\n      <th>1</th>\n      <td>2019/2/25</td>\n      <td>スポーツできる場所があるのが良い</td>\n      <td>5</td>\n      <td>16</td>\n    </tr>\n    <tr>\n      <th>2</th>\n      <td>2019/2/18</td>\n      <td>子育て支援が嬉しい</td>\n      <td>5</td>\n      <td>9</td>\n    </tr>\n    <tr>\n      <th>3</th>\n      <td>2019/4/9</td>\n      <td>保育園に入れる</td>\n      <td>4</td>\n      <td>7</td>\n    </tr>\n    <tr>\n      <th>4</th>\n      <td>2019/1/6</td>\n      <td>駅前商店街が寂しい</td>\n      <td>2</td>\n      <td>9</td>\n    </tr>\n  </tbody>\n</table>\n</div>"
     },
     "execution_count": 9,
     "metadata": {},
     "output_type": "execute_result"
    }
   ],
   "source": [
    "survey[\"length\"] = survey[\"comment\"].str.len()\n",
    "survey.head()"
   ],
   "metadata": {
    "collapsed": false
   }
  },
  {
   "cell_type": "code",
   "execution_count": 10,
   "outputs": [
    {
     "data": {
      "text/plain": "(array([11., 24., 21., 10.,  6.,  6.,  5.,  0.,  0.,  1.]),\n array([ 4. ,  8.6, 13.2, 17.8, 22.4, 27. , 31.6, 36.2, 40.8, 45.4, 50. ]),\n <BarContainer object of 10 artists>)"
     },
     "execution_count": 10,
     "metadata": {},
     "output_type": "execute_result"
    },
    {
     "data": {
      "text/plain": "<Figure size 640x480 with 1 Axes>",
      "image/png": "[encoded data removed]"
     },
     "metadata": {},
     "output_type": "display_data"
    }
   ],
   "source": [
    "import matplotlib.pyplot as plt\n",
    "%matplotlib inline\n",
    "plt.hist(survey[\"length\"])"
   ],
   "metadata": {
    "collapsed": false
   }
  },
  {
   "cell_type": "markdown",
   "source": [
    "## ノック94"
   ],
   "metadata": {
    "collapsed": false
   }
  },
  {
   "cell_type": "code",
   "execution_count": null,
   "outputs": [],
   "source": [],
   "metadata": {
    "collapsed": false
   }
  },
  {
   "cell_type": "markdown",
   "source": [
    "## ノック95"
   ],
   "metadata": {
    "collapsed": false
   }
  },
  {
   "cell_type": "code",
   "execution_count": null,
   "outputs": [],
   "source": [],
   "metadata": {
    "collapsed": false
   }
  },
  {
   "cell_type": "markdown",
   "source": [
    "## ノック96"
   ],
   "metadata": {
    "collapsed": false
   }
  },
  {
   "cell_type": "code",
   "execution_count": null,
   "outputs": [],
   "source": [],
   "metadata": {
    "collapsed": false
   }
  },
  {
   "cell_type": "markdown",
   "source": [
    "## ノック97"
   ],
   "metadata": {
    "collapsed": false
   }
  },
  {
   "cell_type": "code",
   "execution_count": null,
   "outputs": [],
   "source": [],
   "metadata": {
    "collapsed": false
   }
  },
  {
   "cell_type": "markdown",
   "source": [
    "## ノック98"
   ],
   "metadata": {
    "collapsed": false
   }
  },
  {
   "cell_type": "code",
   "execution_count": null,
   "outputs": [],
   "source": [],
   "metadata": {
    "collapsed": false
   }
  },
  {
   "cell_type": "markdown",
   "source": [
    "## ノック99"
   ],
   "metadata": {
    "collapsed": false
   }
  },
  {
   "cell_type": "code",
   "execution_count": null,
   "outputs": [],
   "source": [],
   "metadata": {
    "collapsed": false
   }
  },
  {
   "cell_type": "markdown",
   "source": [
    "## ノック100"
   ],
   "metadata": {
    "collapsed": false
   }
  },
  {
   "cell_type": "code",
   "execution_count": null,
   "outputs": [],
   "source": [],
   "metadata": {
    "collapsed": false
   }
  }
 ],
 "metadata": {
  "kernelspec": {
   "display_name": "Python 3",
   "language": "python",
   "name": "python3"
  },
  "language_info": {
   "codemirror_mode": {
    "name": "ipython",
    "version": 2
   },
   "file_extension": ".py",
   "mimetype": "text/x-python",
   "name": "python",
   "nbconvert_exporter": "python",
   "pygments_lexer": "ipython2",
   "version": "2.7.6"
  }
 },
 "nbformat": 4,
 "nbformat_minor": 0
}
