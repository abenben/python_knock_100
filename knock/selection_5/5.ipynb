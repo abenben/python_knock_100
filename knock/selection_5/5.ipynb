{
 "cells": [
  {
   "cell_type": "markdown",
   "metadata": {
    "collapsed": true,
    "pycharm": {
     "name": "#%% md\n"
    }
   },
   "source": [
    "## ノック41"
   ]
  },
  {
   "cell_type": "code",
   "execution_count": 54,
   "outputs": [],
   "source": [
    "import pandas as pd\n",
    "\n",
    "customer = pd.read_csv('customer_join.csv')\n",
    "uselog_months = pd.read_csv('use_log_months.csv')"
   ],
   "metadata": {
    "collapsed": false,
    "pycharm": {
     "name": "#%%\n"
    }
   }
  },
  {
   "cell_type": "code",
   "execution_count": 55,
   "outputs": [
    {
     "name": "stderr",
     "output_type": "stream",
     "text": [
      "/Users/abe2/PycharmProjects/python_knock_100/venv/lib/python3.10/site-packages/pandas/core/frame.py:5039: SettingWithCopyWarning: \n",
      "A value is trying to be set on a copy of a slice from a DataFrame\n",
      "\n",
      "See the caveats in the documentation: https://pandas.pydata.org/pandas-docs/stable/user_guide/indexing.html#returning-a-view-versus-a-copy\n",
      "  return super().rename(\n"
     ]
    },
    {
     "data": {
      "text/plain": "       年月 customer_id  count_0  count_1\n0  201805    AS002855        5      4.0\n1  201805    AS009373        4      3.0\n2  201805    AS015233        7      NaN\n3  201805    AS015315        3      6.0\n4  201805    AS015739        5      7.0",
      "text/html": "<div>\n<style scoped>\n    .dataframe tbody tr th:only-of-type {\n        vertical-align: middle;\n    }\n\n    .dataframe tbody tr th {\n        vertical-align: top;\n    }\n\n    .dataframe thead th {\n        text-align: right;\n    }\n</style>\n<table border=\"1\" class=\"dataframe\">\n  <thead>\n    <tr style=\"text-align: right;\">\n      <th></th>\n      <th>年月</th>\n      <th>customer_id</th>\n      <th>count_0</th>\n      <th>count_1</th>\n    </tr>\n  </thead>\n  <tbody>\n    <tr>\n      <th>0</th>\n      <td>201805</td>\n      <td>AS002855</td>\n      <td>5</td>\n      <td>4.0</td>\n    </tr>\n    <tr>\n      <th>1</th>\n      <td>201805</td>\n      <td>AS009373</td>\n      <td>4</td>\n      <td>3.0</td>\n    </tr>\n    <tr>\n      <th>2</th>\n      <td>201805</td>\n      <td>AS015233</td>\n      <td>7</td>\n      <td>NaN</td>\n    </tr>\n    <tr>\n      <th>3</th>\n      <td>201805</td>\n      <td>AS015315</td>\n      <td>3</td>\n      <td>6.0</td>\n    </tr>\n    <tr>\n      <th>4</th>\n      <td>201805</td>\n      <td>AS015739</td>\n      <td>5</td>\n      <td>7.0</td>\n    </tr>\n  </tbody>\n</table>\n</div>"
     },
     "execution_count": 55,
     "metadata": {},
     "output_type": "execute_result"
    }
   ],
   "source": [
    "year_months = list(uselog_months['年月'].unique())\n",
    "uselog = pd.DataFrame()\n",
    "for i in range(1, len(year_months)):\n",
    "    tmp = uselog_months.loc[uselog_months['年月'] == year_months[i]]\n",
    "    tmp.rename(columns={\"count\": \"count_0\"}, inplace=True)\n",
    "    tmp_before = uselog_months.loc[uselog_months['年月'] == year_months[i - 1]]\n",
    "    del tmp_before['年月']\n",
    "    tmp_before.rename(columns={\"count\": \"count_1\"}, inplace=True)\n",
    "    tmp = pd.merge(tmp, tmp_before, on='customer_id', how='left')\n",
    "    uselog = pd.concat([uselog, tmp], ignore_index=True)\n",
    "uselog.head()"
   ],
   "metadata": {
    "collapsed": false,
    "pycharm": {
     "name": "#%%\n"
    }
   }
  },
  {
   "cell_type": "markdown",
   "source": [
    "## ノック42"
   ],
   "metadata": {
    "collapsed": false,
    "pycharm": {
     "name": "#%% md\n"
    }
   }
  },
  {
   "cell_type": "code",
   "execution_count": 56,
   "outputs": [
    {
     "name": "stderr",
     "output_type": "stream",
     "text": [
      "/var/folders/8m/nh1dsqlj3nbf01srth34gpm80000gp/T/ipykernel_48580/1318804781.py:4: SettingWithCopyWarning: \n",
      "A value is trying to be set on a copy of a slice from a DataFrame.\n",
      "Try using .loc[row_indexer,col_indexer] = value instead\n",
      "\n",
      "See the caveats in the documentation: https://pandas.pydata.org/pandas-docs/stable/user_guide/indexing.html#returning-a-view-versus-a-copy\n",
      "  exit_customer[\"exit_date\"] = None\n",
      "/var/folders/8m/nh1dsqlj3nbf01srth34gpm80000gp/T/ipykernel_48580/1318804781.py:5: SettingWithCopyWarning: \n",
      "A value is trying to be set on a copy of a slice from a DataFrame.\n",
      "Try using .loc[row_indexer,col_indexer] = value instead\n",
      "\n",
      "See the caveats in the documentation: https://pandas.pydata.org/pandas-docs/stable/user_guide/indexing.html#returning-a-view-versus-a-copy\n",
      "  exit_customer[\"end_date\"] = pd.to_datetime(exit_customer[\"end_date\"])\n",
      "/Users/abe2/PycharmProjects/python_knock_100/venv/lib/python3.10/site-packages/pandas/core/indexing.py:1732: SettingWithCopyWarning: \n",
      "A value is trying to be set on a copy of a slice from a DataFrame\n",
      "\n",
      "See the caveats in the documentation: https://pandas.pydata.org/pandas-docs/stable/user_guide/indexing.html#returning-a-view-versus-a-copy\n",
      "  self._setitem_single_block(indexer, value, name)\n"
     ]
    },
    {
     "name": "stdout",
     "output_type": "stream",
     "text": [
      "33851\n"
     ]
    },
    {
     "name": "stderr",
     "output_type": "stream",
     "text": [
      "/var/folders/8m/nh1dsqlj3nbf01srth34gpm80000gp/T/ipykernel_48580/1318804781.py:8: SettingWithCopyWarning: \n",
      "A value is trying to be set on a copy of a slice from a DataFrame.\n",
      "Try using .loc[row_indexer,col_indexer] = value instead\n",
      "\n",
      "See the caveats in the documentation: https://pandas.pydata.org/pandas-docs/stable/user_guide/indexing.html#returning-a-view-versus-a-copy\n",
      "  exit_customer[\"exit_date\"] = pd.to_datetime(exit_customer[\"exit_date\"])\n",
      "/var/folders/8m/nh1dsqlj3nbf01srth34gpm80000gp/T/ipykernel_48580/1318804781.py:9: SettingWithCopyWarning: \n",
      "A value is trying to be set on a copy of a slice from a DataFrame.\n",
      "Try using .loc[row_indexer,col_indexer] = value instead\n",
      "\n",
      "See the caveats in the documentation: https://pandas.pydata.org/pandas-docs/stable/user_guide/indexing.html#returning-a-view-versus-a-copy\n",
      "  exit_customer[\"年月\"] = exit_customer[\"exit_date\"].dt.strftime(\"%Y%m\")\n"
     ]
    },
    {
     "data": {
      "text/plain": "       年月 customer_id  count_0  count_1 name class gender start_date end_date  \\\n0  201805    AS002855        5      4.0  NaN   NaN    NaN        NaN      NaT   \n1  201805    AS009373        4      3.0  NaN   NaN    NaN        NaN      NaT   \n2  201805    AS015233        7      NaN  NaN   NaN    NaN        NaN      NaT   \n3  201805    AS015315        3      6.0  NaN   NaN    NaN        NaN      NaT   \n4  201805    AS015739        5      7.0  NaN   NaN    NaN        NaN      NaT   \n\n  campaign_id  ...  price campaign_name  mean median  max  min  routine_flg  \\\n0         NaN  ...    NaN           NaN   NaN    NaN  NaN  NaN          NaN   \n1         NaN  ...    NaN           NaN   NaN    NaN  NaN  NaN          NaN   \n2         NaN  ...    NaN           NaN   NaN    NaN  NaN  NaN          NaN   \n3         NaN  ...    NaN           NaN   NaN    NaN  NaN  NaN          NaN   \n4         NaN  ...    NaN           NaN   NaN    NaN  NaN  NaN          NaN   \n\n   calc_date  membership_period exit_date  \n0        NaN                NaN       NaT  \n1        NaN                NaN       NaT  \n2        NaN                NaN       NaT  \n3        NaN                NaN       NaT  \n4        NaN                NaN       NaT  \n\n[5 rows x 22 columns]",
      "text/html": "<div>\n<style scoped>\n    .dataframe tbody tr th:only-of-type {\n        vertical-align: middle;\n    }\n\n    .dataframe tbody tr th {\n        vertical-align: top;\n    }\n\n    .dataframe thead th {\n        text-align: right;\n    }\n</style>\n<table border=\"1\" class=\"dataframe\">\n  <thead>\n    <tr style=\"text-align: right;\">\n      <th></th>\n      <th>年月</th>\n      <th>customer_id</th>\n      <th>count_0</th>\n      <th>count_1</th>\n      <th>name</th>\n      <th>class</th>\n      <th>gender</th>\n      <th>start_date</th>\n      <th>end_date</th>\n      <th>campaign_id</th>\n      <th>...</th>\n      <th>price</th>\n      <th>campaign_name</th>\n      <th>mean</th>\n      <th>median</th>\n      <th>max</th>\n      <th>min</th>\n      <th>routine_flg</th>\n      <th>calc_date</th>\n      <th>membership_period</th>\n      <th>exit_date</th>\n    </tr>\n  </thead>\n  <tbody>\n    <tr>\n      <th>0</th>\n      <td>201805</td>\n      <td>AS002855</td>\n      <td>5</td>\n      <td>4.0</td>\n      <td>NaN</td>\n      <td>NaN</td>\n      <td>NaN</td>\n      <td>NaN</td>\n      <td>NaT</td>\n      <td>NaN</td>\n      <td>...</td>\n      <td>NaN</td>\n      <td>NaN</td>\n      <td>NaN</td>\n      <td>NaN</td>\n      <td>NaN</td>\n      <td>NaN</td>\n      <td>NaN</td>\n      <td>NaN</td>\n      <td>NaN</td>\n      <td>NaT</td>\n    </tr>\n    <tr>\n      <th>1</th>\n      <td>201805</td>\n      <td>AS009373</td>\n      <td>4</td>\n      <td>3.0</td>\n      <td>NaN</td>\n      <td>NaN</td>\n      <td>NaN</td>\n      <td>NaN</td>\n      <td>NaT</td>\n      <td>NaN</td>\n      <td>...</td>\n      <td>NaN</td>\n      <td>NaN</td>\n      <td>NaN</td>\n      <td>NaN</td>\n      <td>NaN</td>\n      <td>NaN</td>\n      <td>NaN</td>\n      <td>NaN</td>\n      <td>NaN</td>\n      <td>NaT</td>\n    </tr>\n    <tr>\n      <th>2</th>\n      <td>201805</td>\n      <td>AS015233</td>\n      <td>7</td>\n      <td>NaN</td>\n      <td>NaN</td>\n      <td>NaN</td>\n      <td>NaN</td>\n      <td>NaN</td>\n      <td>NaT</td>\n      <td>NaN</td>\n      <td>...</td>\n      <td>NaN</td>\n      <td>NaN</td>\n      <td>NaN</td>\n      <td>NaN</td>\n      <td>NaN</td>\n      <td>NaN</td>\n      <td>NaN</td>\n      <td>NaN</td>\n      <td>NaN</td>\n      <td>NaT</td>\n    </tr>\n    <tr>\n      <th>3</th>\n      <td>201805</td>\n      <td>AS015315</td>\n      <td>3</td>\n      <td>6.0</td>\n      <td>NaN</td>\n      <td>NaN</td>\n      <td>NaN</td>\n      <td>NaN</td>\n      <td>NaT</td>\n      <td>NaN</td>\n      <td>...</td>\n      <td>NaN</td>\n      <td>NaN</td>\n      <td>NaN</td>\n      <td>NaN</td>\n      <td>NaN</td>\n      <td>NaN</td>\n      <td>NaN</td>\n      <td>NaN</td>\n      <td>NaN</td>\n      <td>NaT</td>\n    </tr>\n    <tr>\n      <th>4</th>\n      <td>201805</td>\n      <td>AS015739</td>\n      <td>5</td>\n      <td>7.0</td>\n      <td>NaN</td>\n      <td>NaN</td>\n      <td>NaN</td>\n      <td>NaN</td>\n      <td>NaT</td>\n      <td>NaN</td>\n      <td>...</td>\n      <td>NaN</td>\n      <td>NaN</td>\n      <td>NaN</td>\n      <td>NaN</td>\n      <td>NaN</td>\n      <td>NaN</td>\n      <td>NaN</td>\n      <td>NaN</td>\n      <td>NaN</td>\n      <td>NaT</td>\n    </tr>\n  </tbody>\n</table>\n<p>5 rows × 22 columns</p>\n</div>"
     },
     "execution_count": 56,
     "metadata": {},
     "output_type": "execute_result"
    }
   ],
   "source": [
    "from dateutil.relativedelta import relativedelta\n",
    "\n",
    "exit_customer = customer.loc[customer[\"is_deleted\"] == 1]\n",
    "exit_customer[\"exit_date\"] = None\n",
    "exit_customer[\"end_date\"] = pd.to_datetime(exit_customer[\"end_date\"])\n",
    "for i in range(len(exit_customer)):\n",
    "    exit_customer[\"exit_date\"].iloc[i] = exit_customer[\"end_date\"].iloc[i] - relativedelta(months=1)\n",
    "exit_customer[\"exit_date\"] = pd.to_datetime(exit_customer[\"exit_date\"])\n",
    "exit_customer[\"年月\"] = exit_customer[\"exit_date\"].dt.strftime(\"%Y%m\")\n",
    "uselog[\"年月\"] = uselog[\"年月\"].astype(str)\n",
    "exit_uselog = pd.merge(uselog, exit_customer, on=[\"customer_id\", \"年月\"], how=\"left\")\n",
    "print(len(uselog))\n",
    "exit_uselog.head()"
   ],
   "metadata": {
    "collapsed": false,
    "pycharm": {
     "name": "#%%\n"
    }
   }
  },
  {
   "cell_type": "code",
   "execution_count": 57,
   "outputs": [
    {
     "name": "stdout",
     "output_type": "stream",
     "text": [
      "1104\n",
      "1104\n"
     ]
    },
    {
     "data": {
      "text/plain": "         年月 customer_id  count_0  count_1   name class gender  start_date  \\\n19   201805    AS055680        3      3.0  XXXXX   C01      M  2018-03-01   \n57   201805    AS169823        2      3.0     XX   C01      M  2017-11-01   \n110  201805    AS305860        5      3.0   XXXX   C01      M  2017-06-01   \n128  201805    AS363699        5      3.0  XXXXX   C01      M  2018-02-01   \n147  201805    AS417696        1      4.0     XX   C03      F  2017-09-01   \n\n      end_date campaign_id  ...    price campaign_name      mean median  max  \\\n19  2018-06-30         CA1  ...  10500.0            通常  3.000000    3.0  3.0   \n57  2018-06-30         CA1  ...  10500.0            通常  3.000000    3.0  4.0   \n110 2018-06-30         CA1  ...  10500.0            通常  3.333333    3.0  5.0   \n128 2018-06-30         CA1  ...  10500.0            通常  3.333333    3.0  5.0   \n147 2018-06-30         CA1  ...   6000.0            通常  2.000000    1.0  4.0   \n\n     min  routine_flg   calc_date  membership_period  exit_date  \n19   3.0          0.0  2018-06-30                3.0 2018-05-30  \n57   2.0          1.0  2018-06-30                7.0 2018-05-30  \n110  2.0          0.0  2018-06-30               12.0 2018-05-30  \n128  2.0          0.0  2018-06-30                4.0 2018-05-30  \n147  1.0          0.0  2018-06-30                9.0 2018-05-30  \n\n[5 rows x 22 columns]",
      "text/html": "<div>\n<style scoped>\n    .dataframe tbody tr th:only-of-type {\n        vertical-align: middle;\n    }\n\n    .dataframe tbody tr th {\n        vertical-align: top;\n    }\n\n    .dataframe thead th {\n        text-align: right;\n    }\n</style>\n<table border=\"1\" class=\"dataframe\">\n  <thead>\n    <tr style=\"text-align: right;\">\n      <th></th>\n      <th>年月</th>\n      <th>customer_id</th>\n      <th>count_0</th>\n      <th>count_1</th>\n      <th>name</th>\n      <th>class</th>\n      <th>gender</th>\n      <th>start_date</th>\n      <th>end_date</th>\n      <th>campaign_id</th>\n      <th>...</th>\n      <th>price</th>\n      <th>campaign_name</th>\n      <th>mean</th>\n      <th>median</th>\n      <th>max</th>\n      <th>min</th>\n      <th>routine_flg</th>\n      <th>calc_date</th>\n      <th>membership_period</th>\n      <th>exit_date</th>\n    </tr>\n  </thead>\n  <tbody>\n    <tr>\n      <th>19</th>\n      <td>201805</td>\n      <td>AS055680</td>\n      <td>3</td>\n      <td>3.0</td>\n      <td>XXXXX</td>\n      <td>C01</td>\n      <td>M</td>\n      <td>2018-03-01</td>\n      <td>2018-06-30</td>\n      <td>CA1</td>\n      <td>...</td>\n      <td>10500.0</td>\n      <td>通常</td>\n      <td>3.000000</td>\n      <td>3.0</td>\n      <td>3.0</td>\n      <td>3.0</td>\n      <td>0.0</td>\n      <td>2018-06-30</td>\n      <td>3.0</td>\n      <td>2018-05-30</td>\n    </tr>\n    <tr>\n      <th>57</th>\n      <td>201805</td>\n      <td>AS169823</td>\n      <td>2</td>\n      <td>3.0</td>\n      <td>XX</td>\n      <td>C01</td>\n      <td>M</td>\n      <td>2017-11-01</td>\n      <td>2018-06-30</td>\n      <td>CA1</td>\n      <td>...</td>\n      <td>10500.0</td>\n      <td>通常</td>\n      <td>3.000000</td>\n      <td>3.0</td>\n      <td>4.0</td>\n      <td>2.0</td>\n      <td>1.0</td>\n      <td>2018-06-30</td>\n      <td>7.0</td>\n      <td>2018-05-30</td>\n    </tr>\n    <tr>\n      <th>110</th>\n      <td>201805</td>\n      <td>AS305860</td>\n      <td>5</td>\n      <td>3.0</td>\n      <td>XXXX</td>\n      <td>C01</td>\n      <td>M</td>\n      <td>2017-06-01</td>\n      <td>2018-06-30</td>\n      <td>CA1</td>\n      <td>...</td>\n      <td>10500.0</td>\n      <td>通常</td>\n      <td>3.333333</td>\n      <td>3.0</td>\n      <td>5.0</td>\n      <td>2.0</td>\n      <td>0.0</td>\n      <td>2018-06-30</td>\n      <td>12.0</td>\n      <td>2018-05-30</td>\n    </tr>\n    <tr>\n      <th>128</th>\n      <td>201805</td>\n      <td>AS363699</td>\n      <td>5</td>\n      <td>3.0</td>\n      <td>XXXXX</td>\n      <td>C01</td>\n      <td>M</td>\n      <td>2018-02-01</td>\n      <td>2018-06-30</td>\n      <td>CA1</td>\n      <td>...</td>\n      <td>10500.0</td>\n      <td>通常</td>\n      <td>3.333333</td>\n      <td>3.0</td>\n      <td>5.0</td>\n      <td>2.0</td>\n      <td>0.0</td>\n      <td>2018-06-30</td>\n      <td>4.0</td>\n      <td>2018-05-30</td>\n    </tr>\n    <tr>\n      <th>147</th>\n      <td>201805</td>\n      <td>AS417696</td>\n      <td>1</td>\n      <td>4.0</td>\n      <td>XX</td>\n      <td>C03</td>\n      <td>F</td>\n      <td>2017-09-01</td>\n      <td>2018-06-30</td>\n      <td>CA1</td>\n      <td>...</td>\n      <td>6000.0</td>\n      <td>通常</td>\n      <td>2.000000</td>\n      <td>1.0</td>\n      <td>4.0</td>\n      <td>1.0</td>\n      <td>0.0</td>\n      <td>2018-06-30</td>\n      <td>9.0</td>\n      <td>2018-05-30</td>\n    </tr>\n  </tbody>\n</table>\n<p>5 rows × 22 columns</p>\n</div>"
     },
     "execution_count": 57,
     "metadata": {},
     "output_type": "execute_result"
    }
   ],
   "source": [
    "exit_uselog = exit_uselog.dropna(subset=[\"name\"])\n",
    "print(len(exit_uselog))\n",
    "print(len(exit_uselog[\"customer_id\"].unique()))\n",
    "exit_uselog.head()"
   ],
   "metadata": {
    "collapsed": false,
    "pycharm": {
     "name": "#%%\n"
    }
   }
  },
  {
   "cell_type": "markdown",
   "source": [
    "## ノック43"
   ],
   "metadata": {
    "collapsed": false,
    "pycharm": {
     "name": "#%% md\n"
    }
   }
  },
  {
   "cell_type": "code",
   "execution_count": 58,
   "outputs": [
    {
     "name": "stdout",
     "output_type": "stream",
     "text": [
      "33851\n",
      "27422\n"
     ]
    }
   ],
   "source": [
    "conti_customer = customer.loc[customer[\"is_deleted\"] == 0]\n",
    "conti_uselog = pd.merge(uselog, conti_customer, on=[\"customer_id\"], how=\"left\")\n",
    "print(len(conti_uselog))\n",
    "conti_uselog = conti_uselog.dropna(subset=[\"name\"])\n",
    "print(len(conti_uselog))"
   ],
   "metadata": {
    "collapsed": false,
    "pycharm": {
     "name": "#%%\n"
    }
   }
  },
  {
   "cell_type": "code",
   "execution_count": 59,
   "outputs": [
    {
     "name": "stdout",
     "output_type": "stream",
     "text": [
      "2842\n"
     ]
    },
    {
     "data": {
      "text/plain": "       年月 customer_id  count_0  count_1   name class gender  start_date  \\\n0  201809    OA388010        5      8.0  XXXXX   C01      M  2017-12-01   \n1  201809    AS467683        8      5.0   XXXX   C01      M  2016-12-01   \n2  201811    TS290936        6      5.0   XXXX   C01      F  2016-12-01   \n3  201812    AS822877        7      7.0     XX   C02      F  2018-06-02   \n4  201807    HD298120        5      6.0  XXXXX   C02      F  2017-07-01   \n\n  end_date campaign_id  ...  class_name    price  campaign_name      mean  \\\n0      NaN         CA3  ...      オールタイム  10500.0          入会費無料  6.250000   \n1      NaN         CA1  ...      オールタイム  10500.0             通常  5.250000   \n2      NaN         CA1  ...      オールタイム  10500.0             通常  5.250000   \n3      NaN         CA2  ...       デイタイム   7500.0          入会費半額  7.400000   \n4      NaN         CA2  ...       デイタイム   7500.0          入会費半額  5.916667   \n\n   median   max  min  routine_flg   calc_date membership_period  \n0     6.0   9.0  3.0          1.0  2019-04-30              16.0  \n1     6.0   8.0  2.0          1.0  2019-04-30              28.0  \n2     5.0   9.0  2.0          1.0  2019-04-30              28.0  \n3     7.0  11.0  6.0          1.0  2019-04-30              10.0  \n4     6.0   8.0  4.0          1.0  2019-04-30              21.0  \n\n[5 rows x 21 columns]",
      "text/html": "<div>\n<style scoped>\n    .dataframe tbody tr th:only-of-type {\n        vertical-align: middle;\n    }\n\n    .dataframe tbody tr th {\n        vertical-align: top;\n    }\n\n    .dataframe thead th {\n        text-align: right;\n    }\n</style>\n<table border=\"1\" class=\"dataframe\">\n  <thead>\n    <tr style=\"text-align: right;\">\n      <th></th>\n      <th>年月</th>\n      <th>customer_id</th>\n      <th>count_0</th>\n      <th>count_1</th>\n      <th>name</th>\n      <th>class</th>\n      <th>gender</th>\n      <th>start_date</th>\n      <th>end_date</th>\n      <th>campaign_id</th>\n      <th>...</th>\n      <th>class_name</th>\n      <th>price</th>\n      <th>campaign_name</th>\n      <th>mean</th>\n      <th>median</th>\n      <th>max</th>\n      <th>min</th>\n      <th>routine_flg</th>\n      <th>calc_date</th>\n      <th>membership_period</th>\n    </tr>\n  </thead>\n  <tbody>\n    <tr>\n      <th>0</th>\n      <td>201809</td>\n      <td>OA388010</td>\n      <td>5</td>\n      <td>8.0</td>\n      <td>XXXXX</td>\n      <td>C01</td>\n      <td>M</td>\n      <td>2017-12-01</td>\n      <td>NaN</td>\n      <td>CA3</td>\n      <td>...</td>\n      <td>オールタイム</td>\n      <td>10500.0</td>\n      <td>入会費無料</td>\n      <td>6.250000</td>\n      <td>6.0</td>\n      <td>9.0</td>\n      <td>3.0</td>\n      <td>1.0</td>\n      <td>2019-04-30</td>\n      <td>16.0</td>\n    </tr>\n    <tr>\n      <th>1</th>\n      <td>201809</td>\n      <td>AS467683</td>\n      <td>8</td>\n      <td>5.0</td>\n      <td>XXXX</td>\n      <td>C01</td>\n      <td>M</td>\n      <td>2016-12-01</td>\n      <td>NaN</td>\n      <td>CA1</td>\n      <td>...</td>\n      <td>オールタイム</td>\n      <td>10500.0</td>\n      <td>通常</td>\n      <td>5.250000</td>\n      <td>6.0</td>\n      <td>8.0</td>\n      <td>2.0</td>\n      <td>1.0</td>\n      <td>2019-04-30</td>\n      <td>28.0</td>\n    </tr>\n    <tr>\n      <th>2</th>\n      <td>201811</td>\n      <td>TS290936</td>\n      <td>6</td>\n      <td>5.0</td>\n      <td>XXXX</td>\n      <td>C01</td>\n      <td>F</td>\n      <td>2016-12-01</td>\n      <td>NaN</td>\n      <td>CA1</td>\n      <td>...</td>\n      <td>オールタイム</td>\n      <td>10500.0</td>\n      <td>通常</td>\n      <td>5.250000</td>\n      <td>5.0</td>\n      <td>9.0</td>\n      <td>2.0</td>\n      <td>1.0</td>\n      <td>2019-04-30</td>\n      <td>28.0</td>\n    </tr>\n    <tr>\n      <th>3</th>\n      <td>201812</td>\n      <td>AS822877</td>\n      <td>7</td>\n      <td>7.0</td>\n      <td>XX</td>\n      <td>C02</td>\n      <td>F</td>\n      <td>2018-06-02</td>\n      <td>NaN</td>\n      <td>CA2</td>\n      <td>...</td>\n      <td>デイタイム</td>\n      <td>7500.0</td>\n      <td>入会費半額</td>\n      <td>7.400000</td>\n      <td>7.0</td>\n      <td>11.0</td>\n      <td>6.0</td>\n      <td>1.0</td>\n      <td>2019-04-30</td>\n      <td>10.0</td>\n    </tr>\n    <tr>\n      <th>4</th>\n      <td>201807</td>\n      <td>HD298120</td>\n      <td>5</td>\n      <td>6.0</td>\n      <td>XXXXX</td>\n      <td>C02</td>\n      <td>F</td>\n      <td>2017-07-01</td>\n      <td>NaN</td>\n      <td>CA2</td>\n      <td>...</td>\n      <td>デイタイム</td>\n      <td>7500.0</td>\n      <td>入会費半額</td>\n      <td>5.916667</td>\n      <td>6.0</td>\n      <td>8.0</td>\n      <td>4.0</td>\n      <td>1.0</td>\n      <td>2019-04-30</td>\n      <td>21.0</td>\n    </tr>\n  </tbody>\n</table>\n<p>5 rows × 21 columns</p>\n</div>"
     },
     "execution_count": 59,
     "metadata": {},
     "output_type": "execute_result"
    }
   ],
   "source": [
    "conti_uselog = conti_uselog.sample(frac=1).reset_index(drop=True)\n",
    "conti_uselog = conti_uselog.drop_duplicates(subset=[\"customer_id\"])\n",
    "print(len(conti_uselog))\n",
    "conti_uselog.head()"
   ],
   "metadata": {
    "collapsed": false,
    "pycharm": {
     "name": "#%%\n"
    }
   }
  },
  {
   "cell_type": "code",
   "execution_count": 60,
   "outputs": [
    {
     "name": "stdout",
     "output_type": "stream",
     "text": [
      "3946\n"
     ]
    },
    {
     "data": {
      "text/plain": "       年月 customer_id  count_0  count_1   name class gender  start_date  \\\n0  201809    OA388010        5      8.0  XXXXX   C01      M  2017-12-01   \n1  201809    AS467683        8      5.0   XXXX   C01      M  2016-12-01   \n2  201811    TS290936        6      5.0   XXXX   C01      F  2016-12-01   \n3  201812    AS822877        7      7.0     XX   C02      F  2018-06-02   \n4  201807    HD298120        5      6.0  XXXXX   C02      F  2017-07-01   \n\n  end_date campaign_id  ...    price campaign_name      mean median   max  \\\n0      NaN         CA3  ...  10500.0         入会費無料  6.250000    6.0   9.0   \n1      NaN         CA1  ...  10500.0            通常  5.250000    6.0   8.0   \n2      NaN         CA1  ...  10500.0            通常  5.250000    5.0   9.0   \n3      NaN         CA2  ...   7500.0         入会費半額  7.400000    7.0  11.0   \n4      NaN         CA2  ...   7500.0         入会費半額  5.916667    6.0   8.0   \n\n   min  routine_flg   calc_date  membership_period exit_date  \n0  3.0          1.0  2019-04-30               16.0       NaT  \n1  2.0          1.0  2019-04-30               28.0       NaT  \n2  2.0          1.0  2019-04-30               28.0       NaT  \n3  6.0          1.0  2019-04-30               10.0       NaT  \n4  4.0          1.0  2019-04-30               21.0       NaT  \n\n[5 rows x 22 columns]",
      "text/html": "<div>\n<style scoped>\n    .dataframe tbody tr th:only-of-type {\n        vertical-align: middle;\n    }\n\n    .dataframe tbody tr th {\n        vertical-align: top;\n    }\n\n    .dataframe thead th {\n        text-align: right;\n    }\n</style>\n<table border=\"1\" class=\"dataframe\">\n  <thead>\n    <tr style=\"text-align: right;\">\n      <th></th>\n      <th>年月</th>\n      <th>customer_id</th>\n      <th>count_0</th>\n      <th>count_1</th>\n      <th>name</th>\n      <th>class</th>\n      <th>gender</th>\n      <th>start_date</th>\n      <th>end_date</th>\n      <th>campaign_id</th>\n      <th>...</th>\n      <th>price</th>\n      <th>campaign_name</th>\n      <th>mean</th>\n      <th>median</th>\n      <th>max</th>\n      <th>min</th>\n      <th>routine_flg</th>\n      <th>calc_date</th>\n      <th>membership_period</th>\n      <th>exit_date</th>\n    </tr>\n  </thead>\n  <tbody>\n    <tr>\n      <th>0</th>\n      <td>201809</td>\n      <td>OA388010</td>\n      <td>5</td>\n      <td>8.0</td>\n      <td>XXXXX</td>\n      <td>C01</td>\n      <td>M</td>\n      <td>2017-12-01</td>\n      <td>NaN</td>\n      <td>CA3</td>\n      <td>...</td>\n      <td>10500.0</td>\n      <td>入会費無料</td>\n      <td>6.250000</td>\n      <td>6.0</td>\n      <td>9.0</td>\n      <td>3.0</td>\n      <td>1.0</td>\n      <td>2019-04-30</td>\n      <td>16.0</td>\n      <td>NaT</td>\n    </tr>\n    <tr>\n      <th>1</th>\n      <td>201809</td>\n      <td>AS467683</td>\n      <td>8</td>\n      <td>5.0</td>\n      <td>XXXX</td>\n      <td>C01</td>\n      <td>M</td>\n      <td>2016-12-01</td>\n      <td>NaN</td>\n      <td>CA1</td>\n      <td>...</td>\n      <td>10500.0</td>\n      <td>通常</td>\n      <td>5.250000</td>\n      <td>6.0</td>\n      <td>8.0</td>\n      <td>2.0</td>\n      <td>1.0</td>\n      <td>2019-04-30</td>\n      <td>28.0</td>\n      <td>NaT</td>\n    </tr>\n    <tr>\n      <th>2</th>\n      <td>201811</td>\n      <td>TS290936</td>\n      <td>6</td>\n      <td>5.0</td>\n      <td>XXXX</td>\n      <td>C01</td>\n      <td>F</td>\n      <td>2016-12-01</td>\n      <td>NaN</td>\n      <td>CA1</td>\n      <td>...</td>\n      <td>10500.0</td>\n      <td>通常</td>\n      <td>5.250000</td>\n      <td>5.0</td>\n      <td>9.0</td>\n      <td>2.0</td>\n      <td>1.0</td>\n      <td>2019-04-30</td>\n      <td>28.0</td>\n      <td>NaT</td>\n    </tr>\n    <tr>\n      <th>3</th>\n      <td>201812</td>\n      <td>AS822877</td>\n      <td>7</td>\n      <td>7.0</td>\n      <td>XX</td>\n      <td>C02</td>\n      <td>F</td>\n      <td>2018-06-02</td>\n      <td>NaN</td>\n      <td>CA2</td>\n      <td>...</td>\n      <td>7500.0</td>\n      <td>入会費半額</td>\n      <td>7.400000</td>\n      <td>7.0</td>\n      <td>11.0</td>\n      <td>6.0</td>\n      <td>1.0</td>\n      <td>2019-04-30</td>\n      <td>10.0</td>\n      <td>NaT</td>\n    </tr>\n    <tr>\n      <th>4</th>\n      <td>201807</td>\n      <td>HD298120</td>\n      <td>5</td>\n      <td>6.0</td>\n      <td>XXXXX</td>\n      <td>C02</td>\n      <td>F</td>\n      <td>2017-07-01</td>\n      <td>NaN</td>\n      <td>CA2</td>\n      <td>...</td>\n      <td>7500.0</td>\n      <td>入会費半額</td>\n      <td>5.916667</td>\n      <td>6.0</td>\n      <td>8.0</td>\n      <td>4.0</td>\n      <td>1.0</td>\n      <td>2019-04-30</td>\n      <td>21.0</td>\n      <td>NaT</td>\n    </tr>\n  </tbody>\n</table>\n<p>5 rows × 22 columns</p>\n</div>"
     },
     "execution_count": 60,
     "metadata": {},
     "output_type": "execute_result"
    }
   ],
   "source": [
    "predict_data = pd.concat([conti_uselog, exit_uselog], ignore_index=True)\n",
    "print(len(predict_data))\n",
    "predict_data.head()"
   ],
   "metadata": {
    "collapsed": false,
    "pycharm": {
     "name": "#%%\n"
    }
   }
  },
  {
   "cell_type": "markdown",
   "source": [
    "## ノック44"
   ],
   "metadata": {
    "collapsed": false,
    "pycharm": {
     "name": "#%% md\n"
    }
   }
  },
  {
   "cell_type": "code",
   "execution_count": 61,
   "outputs": [
    {
     "name": "stderr",
     "output_type": "stream",
     "text": [
      "/var/folders/8m/nh1dsqlj3nbf01srth34gpm80000gp/T/ipykernel_48580/917698760.py:6: SettingWithCopyWarning: \n",
      "A value is trying to be set on a copy of a slice from a DataFrame\n",
      "\n",
      "See the caveats in the documentation: https://pandas.pydata.org/pandas-docs/stable/user_guide/indexing.html#returning-a-view-versus-a-copy\n",
      "  predict_data[\"period\"][i] = int(delta.years * 12 + delta.months)\n"
     ]
    },
    {
     "data": {
      "text/plain": "       年月 customer_id  count_0  count_1   name class gender start_date  \\\n0  201809    OA388010        5      8.0  XXXXX   C01      M 2017-12-01   \n1  201809    AS467683        8      5.0   XXXX   C01      M 2016-12-01   \n2  201811    TS290936        6      5.0   XXXX   C01      F 2016-12-01   \n3  201812    AS822877        7      7.0     XX   C02      F 2018-06-02   \n4  201807    HD298120        5      6.0  XXXXX   C02      F 2017-07-01   \n\n  end_date campaign_id  ...      mean median   max  min  routine_flg  \\\n0      NaN         CA3  ...  6.250000    6.0   9.0  3.0          1.0   \n1      NaN         CA1  ...  5.250000    6.0   8.0  2.0          1.0   \n2      NaN         CA1  ...  5.250000    5.0   9.0  2.0          1.0   \n3      NaN         CA2  ...  7.400000    7.0  11.0  6.0          1.0   \n4      NaN         CA2  ...  5.916667    6.0   8.0  4.0          1.0   \n\n    calc_date  membership_period  exit_date  period   now_date  \n0  2019-04-30               16.0        NaT       9 2018-09-01  \n1  2019-04-30               28.0        NaT      21 2018-09-01  \n2  2019-04-30               28.0        NaT      23 2018-11-01  \n3  2019-04-30               10.0        NaT       5 2018-12-01  \n4  2019-04-30               21.0        NaT      12 2018-07-01  \n\n[5 rows x 24 columns]",
      "text/html": "<div>\n<style scoped>\n    .dataframe tbody tr th:only-of-type {\n        vertical-align: middle;\n    }\n\n    .dataframe tbody tr th {\n        vertical-align: top;\n    }\n\n    .dataframe thead th {\n        text-align: right;\n    }\n</style>\n<table border=\"1\" class=\"dataframe\">\n  <thead>\n    <tr style=\"text-align: right;\">\n      <th></th>\n      <th>年月</th>\n      <th>customer_id</th>\n      <th>count_0</th>\n      <th>count_1</th>\n      <th>name</th>\n      <th>class</th>\n      <th>gender</th>\n      <th>start_date</th>\n      <th>end_date</th>\n      <th>campaign_id</th>\n      <th>...</th>\n      <th>mean</th>\n      <th>median</th>\n      <th>max</th>\n      <th>min</th>\n      <th>routine_flg</th>\n      <th>calc_date</th>\n      <th>membership_period</th>\n      <th>exit_date</th>\n      <th>period</th>\n      <th>now_date</th>\n    </tr>\n  </thead>\n  <tbody>\n    <tr>\n      <th>0</th>\n      <td>201809</td>\n      <td>OA388010</td>\n      <td>5</td>\n      <td>8.0</td>\n      <td>XXXXX</td>\n      <td>C01</td>\n      <td>M</td>\n      <td>2017-12-01</td>\n      <td>NaN</td>\n      <td>CA3</td>\n      <td>...</td>\n      <td>6.250000</td>\n      <td>6.0</td>\n      <td>9.0</td>\n      <td>3.0</td>\n      <td>1.0</td>\n      <td>2019-04-30</td>\n      <td>16.0</td>\n      <td>NaT</td>\n      <td>9</td>\n      <td>2018-09-01</td>\n    </tr>\n    <tr>\n      <th>1</th>\n      <td>201809</td>\n      <td>AS467683</td>\n      <td>8</td>\n      <td>5.0</td>\n      <td>XXXX</td>\n      <td>C01</td>\n      <td>M</td>\n      <td>2016-12-01</td>\n      <td>NaN</td>\n      <td>CA1</td>\n      <td>...</td>\n      <td>5.250000</td>\n      <td>6.0</td>\n      <td>8.0</td>\n      <td>2.0</td>\n      <td>1.0</td>\n      <td>2019-04-30</td>\n      <td>28.0</td>\n      <td>NaT</td>\n      <td>21</td>\n      <td>2018-09-01</td>\n    </tr>\n    <tr>\n      <th>2</th>\n      <td>201811</td>\n      <td>TS290936</td>\n      <td>6</td>\n      <td>5.0</td>\n      <td>XXXX</td>\n      <td>C01</td>\n      <td>F</td>\n      <td>2016-12-01</td>\n      <td>NaN</td>\n      <td>CA1</td>\n      <td>...</td>\n      <td>5.250000</td>\n      <td>5.0</td>\n      <td>9.0</td>\n      <td>2.0</td>\n      <td>1.0</td>\n      <td>2019-04-30</td>\n      <td>28.0</td>\n      <td>NaT</td>\n      <td>23</td>\n      <td>2018-11-01</td>\n    </tr>\n    <tr>\n      <th>3</th>\n      <td>201812</td>\n      <td>AS822877</td>\n      <td>7</td>\n      <td>7.0</td>\n      <td>XX</td>\n      <td>C02</td>\n      <td>F</td>\n      <td>2018-06-02</td>\n      <td>NaN</td>\n      <td>CA2</td>\n      <td>...</td>\n      <td>7.400000</td>\n      <td>7.0</td>\n      <td>11.0</td>\n      <td>6.0</td>\n      <td>1.0</td>\n      <td>2019-04-30</td>\n      <td>10.0</td>\n      <td>NaT</td>\n      <td>5</td>\n      <td>2018-12-01</td>\n    </tr>\n    <tr>\n      <th>4</th>\n      <td>201807</td>\n      <td>HD298120</td>\n      <td>5</td>\n      <td>6.0</td>\n      <td>XXXXX</td>\n      <td>C02</td>\n      <td>F</td>\n      <td>2017-07-01</td>\n      <td>NaN</td>\n      <td>CA2</td>\n      <td>...</td>\n      <td>5.916667</td>\n      <td>6.0</td>\n      <td>8.0</td>\n      <td>4.0</td>\n      <td>1.0</td>\n      <td>2019-04-30</td>\n      <td>21.0</td>\n      <td>NaT</td>\n      <td>12</td>\n      <td>2018-07-01</td>\n    </tr>\n  </tbody>\n</table>\n<p>5 rows × 24 columns</p>\n</div>"
     },
     "execution_count": 61,
     "metadata": {},
     "output_type": "execute_result"
    }
   ],
   "source": [
    "predict_data[\"period\"] = 0\n",
    "predict_data[\"now_date\"] = pd.to_datetime(predict_data[\"年月\"], format=\"%Y%m\")\n",
    "predict_data[\"start_date\"] = pd.to_datetime(predict_data[\"start_date\"])\n",
    "for i in range(len(predict_data)):\n",
    "    delta = relativedelta(predict_data[\"now_date\"][i], predict_data[\"start_date\"][i])\n",
    "    predict_data[\"period\"][i] = int(delta.years * 12 + delta.months)\n",
    "predict_data.head()"
   ],
   "metadata": {
    "collapsed": false,
    "pycharm": {
     "name": "#%%\n"
    }
   }
  },
  {
   "cell_type": "markdown",
   "source": [
    "## ノック45"
   ],
   "metadata": {
    "collapsed": false,
    "pycharm": {
     "name": "#%% md\n"
    }
   }
  },
  {
   "cell_type": "code",
   "execution_count": 62,
   "outputs": [
    {
     "data": {
      "text/plain": "年月                      0\ncustomer_id             0\ncount_0                 0\ncount_1               257\nname                    0\nclass                   0\ngender                  0\nstart_date              0\nend_date             2842\ncampaign_id             0\nis_deleted              0\nclass_name              0\nprice                   0\ncampaign_name           0\nmean                    0\nmedian                  0\nmax                     0\nmin                     0\nroutine_flg             0\ncalc_date               0\nmembership_period       0\nexit_date            2842\nperiod                  0\nnow_date                0\ndtype: int64"
     },
     "execution_count": 62,
     "metadata": {},
     "output_type": "execute_result"
    }
   ],
   "source": [
    "predict_data.isna().sum()"
   ],
   "metadata": {
    "collapsed": false,
    "pycharm": {
     "name": "#%%\n"
    }
   }
  },
  {
   "cell_type": "code",
   "execution_count": 63,
   "outputs": [
    {
     "data": {
      "text/plain": "年月                      0\ncustomer_id             0\ncount_0                 0\ncount_1                 0\nname                    0\nclass                   0\ngender                  0\nstart_date              0\nend_date             2637\ncampaign_id             0\nis_deleted              0\nclass_name              0\nprice                   0\ncampaign_name           0\nmean                    0\nmedian                  0\nmax                     0\nmin                     0\nroutine_flg             0\ncalc_date               0\nmembership_period       0\nexit_date            2637\nperiod                  0\nnow_date                0\ndtype: int64"
     },
     "execution_count": 63,
     "metadata": {},
     "output_type": "execute_result"
    }
   ],
   "source": [
    "predict_data = predict_data.dropna(subset=[\"count_1\"])\n",
    "predict_data.isna().sum()"
   ],
   "metadata": {
    "collapsed": false,
    "pycharm": {
     "name": "#%%\n"
    }
   }
  },
  {
   "cell_type": "markdown",
   "source": [
    "## ノック46"
   ],
   "metadata": {
    "collapsed": false,
    "pycharm": {
     "name": "#%% md\n"
    }
   }
  },
  {
   "cell_type": "code",
   "execution_count": 64,
   "outputs": [
    {
     "data": {
      "text/plain": "  campaign_id class_name gender  count_1  routine_flg  period  is_deleted\n0         CA3     オールタイム      M      8.0          1.0       9         0.0\n1         CA1     オールタイム      M      5.0          1.0      21         0.0\n2         CA1     オールタイム      F      5.0          1.0      23         0.0\n3         CA2      デイタイム      F      7.0          1.0       5         0.0\n4         CA2      デイタイム      F      6.0          1.0      12         0.0",
      "text/html": "<div>\n<style scoped>\n    .dataframe tbody tr th:only-of-type {\n        vertical-align: middle;\n    }\n\n    .dataframe tbody tr th {\n        vertical-align: top;\n    }\n\n    .dataframe thead th {\n        text-align: right;\n    }\n</style>\n<table border=\"1\" class=\"dataframe\">\n  <thead>\n    <tr style=\"text-align: right;\">\n      <th></th>\n      <th>campaign_id</th>\n      <th>class_name</th>\n      <th>gender</th>\n      <th>count_1</th>\n      <th>routine_flg</th>\n      <th>period</th>\n      <th>is_deleted</th>\n    </tr>\n  </thead>\n  <tbody>\n    <tr>\n      <th>0</th>\n      <td>CA3</td>\n      <td>オールタイム</td>\n      <td>M</td>\n      <td>8.0</td>\n      <td>1.0</td>\n      <td>9</td>\n      <td>0.0</td>\n    </tr>\n    <tr>\n      <th>1</th>\n      <td>CA1</td>\n      <td>オールタイム</td>\n      <td>M</td>\n      <td>5.0</td>\n      <td>1.0</td>\n      <td>21</td>\n      <td>0.0</td>\n    </tr>\n    <tr>\n      <th>2</th>\n      <td>CA1</td>\n      <td>オールタイム</td>\n      <td>F</td>\n      <td>5.0</td>\n      <td>1.0</td>\n      <td>23</td>\n      <td>0.0</td>\n    </tr>\n    <tr>\n      <th>3</th>\n      <td>CA2</td>\n      <td>デイタイム</td>\n      <td>F</td>\n      <td>7.0</td>\n      <td>1.0</td>\n      <td>5</td>\n      <td>0.0</td>\n    </tr>\n    <tr>\n      <th>4</th>\n      <td>CA2</td>\n      <td>デイタイム</td>\n      <td>F</td>\n      <td>6.0</td>\n      <td>1.0</td>\n      <td>12</td>\n      <td>0.0</td>\n    </tr>\n  </tbody>\n</table>\n</div>"
     },
     "execution_count": 64,
     "metadata": {},
     "output_type": "execute_result"
    }
   ],
   "source": [
    "target_col = [\"campaign_id\", \"class_name\", \"gender\", \"count_1\", \"routine_flg\", \"period\", \"is_deleted\"]\n",
    "predict_data = predict_data[target_col]\n",
    "predict_data.head()"
   ],
   "metadata": {
    "collapsed": false,
    "pycharm": {
     "name": "#%%\n"
    }
   }
  },
  {
   "cell_type": "code",
   "execution_count": 65,
   "outputs": [
    {
     "data": {
      "text/plain": "   count_1  routine_flg  period  is_deleted  campaign_id_CA1  campaign_id_CA2  \\\n0      8.0          1.0       9         0.0                0                0   \n1      5.0          1.0      21         0.0                1                0   \n2      5.0          1.0      23         0.0                1                0   \n3      7.0          1.0       5         0.0                0                1   \n4      6.0          1.0      12         0.0                0                1   \n\n   campaign_id_CA3  class_name_オールタイム  class_name_デイタイム  class_name_ナイト  \\\n0                1                  1                 0               0   \n1                0                  1                 0               0   \n2                0                  1                 0               0   \n3                0                  0                 1               0   \n4                0                  0                 1               0   \n\n   gender_F  gender_M  \n0         0         1  \n1         0         1  \n2         1         0  \n3         1         0  \n4         1         0  ",
      "text/html": "<div>\n<style scoped>\n    .dataframe tbody tr th:only-of-type {\n        vertical-align: middle;\n    }\n\n    .dataframe tbody tr th {\n        vertical-align: top;\n    }\n\n    .dataframe thead th {\n        text-align: right;\n    }\n</style>\n<table border=\"1\" class=\"dataframe\">\n  <thead>\n    <tr style=\"text-align: right;\">\n      <th></th>\n      <th>count_1</th>\n      <th>routine_flg</th>\n      <th>period</th>\n      <th>is_deleted</th>\n      <th>campaign_id_CA1</th>\n      <th>campaign_id_CA2</th>\n      <th>campaign_id_CA3</th>\n      <th>class_name_オールタイム</th>\n      <th>class_name_デイタイム</th>\n      <th>class_name_ナイト</th>\n      <th>gender_F</th>\n      <th>gender_M</th>\n    </tr>\n  </thead>\n  <tbody>\n    <tr>\n      <th>0</th>\n      <td>8.0</td>\n      <td>1.0</td>\n      <td>9</td>\n      <td>0.0</td>\n      <td>0</td>\n      <td>0</td>\n      <td>1</td>\n      <td>1</td>\n      <td>0</td>\n      <td>0</td>\n      <td>0</td>\n      <td>1</td>\n    </tr>\n    <tr>\n      <th>1</th>\n      <td>5.0</td>\n      <td>1.0</td>\n      <td>21</td>\n      <td>0.0</td>\n      <td>1</td>\n      <td>0</td>\n      <td>0</td>\n      <td>1</td>\n      <td>0</td>\n      <td>0</td>\n      <td>0</td>\n      <td>1</td>\n    </tr>\n    <tr>\n      <th>2</th>\n      <td>5.0</td>\n      <td>1.0</td>\n      <td>23</td>\n      <td>0.0</td>\n      <td>1</td>\n      <td>0</td>\n      <td>0</td>\n      <td>1</td>\n      <td>0</td>\n      <td>0</td>\n      <td>1</td>\n      <td>0</td>\n    </tr>\n    <tr>\n      <th>3</th>\n      <td>7.0</td>\n      <td>1.0</td>\n      <td>5</td>\n      <td>0.0</td>\n      <td>0</td>\n      <td>1</td>\n      <td>0</td>\n      <td>0</td>\n      <td>1</td>\n      <td>0</td>\n      <td>1</td>\n      <td>0</td>\n    </tr>\n    <tr>\n      <th>4</th>\n      <td>6.0</td>\n      <td>1.0</td>\n      <td>12</td>\n      <td>0.0</td>\n      <td>0</td>\n      <td>1</td>\n      <td>0</td>\n      <td>0</td>\n      <td>1</td>\n      <td>0</td>\n      <td>1</td>\n      <td>0</td>\n    </tr>\n  </tbody>\n</table>\n</div>"
     },
     "execution_count": 65,
     "metadata": {},
     "output_type": "execute_result"
    }
   ],
   "source": [
    "predict_data=pd.get_dummies(predict_data)\n",
    "predict_data.head()"
   ],
   "metadata": {
    "collapsed": false,
    "pycharm": {
     "name": "#%%\n"
    }
   }
  },
  {
   "cell_type": "code",
   "execution_count": 66,
   "outputs": [
    {
     "data": {
      "text/plain": "   count_1  routine_flg  period  is_deleted  campaign_id_CA1  campaign_id_CA2  \\\n0      8.0          1.0       9         0.0                0                0   \n1      5.0          1.0      21         0.0                1                0   \n2      5.0          1.0      23         0.0                1                0   \n3      7.0          1.0       5         0.0                0                1   \n4      6.0          1.0      12         0.0                0                1   \n\n   campaign_id_CA3  class_name_オールタイム  class_name_デイタイム  gender_F  \n0                1                  1                 0         0  \n1                0                  1                 0         0  \n2                0                  1                 0         1  \n3                0                  0                 1         1  \n4                0                  0                 1         1  ",
      "text/html": "<div>\n<style scoped>\n    .dataframe tbody tr th:only-of-type {\n        vertical-align: middle;\n    }\n\n    .dataframe tbody tr th {\n        vertical-align: top;\n    }\n\n    .dataframe thead th {\n        text-align: right;\n    }\n</style>\n<table border=\"1\" class=\"dataframe\">\n  <thead>\n    <tr style=\"text-align: right;\">\n      <th></th>\n      <th>count_1</th>\n      <th>routine_flg</th>\n      <th>period</th>\n      <th>is_deleted</th>\n      <th>campaign_id_CA1</th>\n      <th>campaign_id_CA2</th>\n      <th>campaign_id_CA3</th>\n      <th>class_name_オールタイム</th>\n      <th>class_name_デイタイム</th>\n      <th>gender_F</th>\n    </tr>\n  </thead>\n  <tbody>\n    <tr>\n      <th>0</th>\n      <td>8.0</td>\n      <td>1.0</td>\n      <td>9</td>\n      <td>0.0</td>\n      <td>0</td>\n      <td>0</td>\n      <td>1</td>\n      <td>1</td>\n      <td>0</td>\n      <td>0</td>\n    </tr>\n    <tr>\n      <th>1</th>\n      <td>5.0</td>\n      <td>1.0</td>\n      <td>21</td>\n      <td>0.0</td>\n      <td>1</td>\n      <td>0</td>\n      <td>0</td>\n      <td>1</td>\n      <td>0</td>\n      <td>0</td>\n    </tr>\n    <tr>\n      <th>2</th>\n      <td>5.0</td>\n      <td>1.0</td>\n      <td>23</td>\n      <td>0.0</td>\n      <td>1</td>\n      <td>0</td>\n      <td>0</td>\n      <td>1</td>\n      <td>0</td>\n      <td>1</td>\n    </tr>\n    <tr>\n      <th>3</th>\n      <td>7.0</td>\n      <td>1.0</td>\n      <td>5</td>\n      <td>0.0</td>\n      <td>0</td>\n      <td>1</td>\n      <td>0</td>\n      <td>0</td>\n      <td>1</td>\n      <td>1</td>\n    </tr>\n    <tr>\n      <th>4</th>\n      <td>6.0</td>\n      <td>1.0</td>\n      <td>12</td>\n      <td>0.0</td>\n      <td>0</td>\n      <td>1</td>\n      <td>0</td>\n      <td>0</td>\n      <td>1</td>\n      <td>1</td>\n    </tr>\n  </tbody>\n</table>\n</div>"
     },
     "execution_count": 66,
     "metadata": {},
     "output_type": "execute_result"
    }
   ],
   "source": [
    "#del predict_data[\"campaign_name_通常\"]\n",
    "del predict_data[\"class_name_ナイト\"]\n",
    "del predict_data[\"gender_M\"]\n",
    "predict_data.head()"
   ],
   "metadata": {
    "collapsed": false,
    "pycharm": {
     "name": "#%%\n"
    }
   }
  },
  {
   "cell_type": "markdown",
   "source": [],
   "metadata": {
    "collapsed": false,
    "pycharm": {
     "name": "#%% md\n"
    }
   }
  }
 ],
 "metadata": {
  "kernelspec": {
   "display_name": "Python 3",
   "language": "python",
   "name": "python3"
  },
  "language_info": {
   "codemirror_mode": {
    "name": "ipython",
    "version": 2
   },
   "file_extension": ".py",
   "mimetype": "text/x-python",
   "name": "python",
   "nbconvert_exporter": "python",
   "pygments_lexer": "ipython2",
   "version": "2.7.6"
  }
 },
 "nbformat": 4,
 "nbformat_minor": 0
}