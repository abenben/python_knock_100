{
 "cells": [
  {
   "cell_type": "markdown",
   "metadata": {
    "collapsed": true,
    "pycharm": {
     "name": "#%% md\n"
    }
   },
   "source": [
    "## ノック41"
   ]
  },
  {
   "cell_type": "code",
   "execution_count": 6,
   "outputs": [],
   "source": [
    "import pandas as pd\n",
    "\n",
    "customer = pd.read_csv('customer_join.csv')\n",
    "uselog_months = pd.read_csv('use_log_months.csv')"
   ],
   "metadata": {
    "collapsed": false,
    "pycharm": {
     "name": "#%%\n"
    }
   }
  },
  {
   "cell_type": "code",
   "execution_count": 7,
   "outputs": [
    {
     "name": "stderr",
     "output_type": "stream",
     "text": [
      "/Users/abe2/PycharmProjects/python_knock_100/venv/lib/python3.10/site-packages/pandas/core/frame.py:5039: SettingWithCopyWarning: \n",
      "A value is trying to be set on a copy of a slice from a DataFrame\n",
      "\n",
      "See the caveats in the documentation: https://pandas.pydata.org/pandas-docs/stable/user_guide/indexing.html#returning-a-view-versus-a-copy\n",
      "  return super().rename(\n"
     ]
    },
    {
     "data": {
      "text/plain": "       年月 customer_id  count_0  count_1\n0  201805    AS002855        5      4.0\n1  201805    AS009373        4      3.0\n2  201805    AS015233        7      NaN\n3  201805    AS015315        3      6.0\n4  201805    AS015739        5      7.0",
      "text/html": "<div>\n<style scoped>\n    .dataframe tbody tr th:only-of-type {\n        vertical-align: middle;\n    }\n\n    .dataframe tbody tr th {\n        vertical-align: top;\n    }\n\n    .dataframe thead th {\n        text-align: right;\n    }\n</style>\n<table border=\"1\" class=\"dataframe\">\n  <thead>\n    <tr style=\"text-align: right;\">\n      <th></th>\n      <th>年月</th>\n      <th>customer_id</th>\n      <th>count_0</th>\n      <th>count_1</th>\n    </tr>\n  </thead>\n  <tbody>\n    <tr>\n      <th>0</th>\n      <td>201805</td>\n      <td>AS002855</td>\n      <td>5</td>\n      <td>4.0</td>\n    </tr>\n    <tr>\n      <th>1</th>\n      <td>201805</td>\n      <td>AS009373</td>\n      <td>4</td>\n      <td>3.0</td>\n    </tr>\n    <tr>\n      <th>2</th>\n      <td>201805</td>\n      <td>AS015233</td>\n      <td>7</td>\n      <td>NaN</td>\n    </tr>\n    <tr>\n      <th>3</th>\n      <td>201805</td>\n      <td>AS015315</td>\n      <td>3</td>\n      <td>6.0</td>\n    </tr>\n    <tr>\n      <th>4</th>\n      <td>201805</td>\n      <td>AS015739</td>\n      <td>5</td>\n      <td>7.0</td>\n    </tr>\n  </tbody>\n</table>\n</div>"
     },
     "execution_count": 7,
     "metadata": {},
     "output_type": "execute_result"
    }
   ],
   "source": [
    "year_months = list(uselog_months['年月'].unique())\n",
    "uselog = pd.DataFrame()\n",
    "for i in range(1, len(year_months)):\n",
    "    tmp = uselog_months.loc[uselog_months['年月'] == year_months[i]]\n",
    "    tmp.rename(columns={\"count\": \"count_0\"}, inplace=True)\n",
    "    tmp_before = uselog_months.loc[uselog_months['年月'] == year_months[i - 1]]\n",
    "    del tmp_before['年月']\n",
    "    tmp_before.rename(columns={\"count\": \"count_1\"}, inplace=True)\n",
    "    tmp = pd.merge(tmp, tmp_before, on='customer_id', how='left')\n",
    "    uselog = pd.concat([uselog, tmp], ignore_index=True)\n",
    "uselog.head()"
   ],
   "metadata": {
    "collapsed": false,
    "pycharm": {
     "name": "#%%\n"
    }
   }
  },
  {
   "cell_type": "markdown",
   "source": [
    "## ノック42"
   ],
   "metadata": {
    "collapsed": false,
    "pycharm": {
     "name": "#%% md\n"
    }
   }
  },
  {
   "cell_type": "code",
   "execution_count": 8,
   "outputs": [
    {
     "name": "stderr",
     "output_type": "stream",
     "text": [
      "/var/folders/8m/nh1dsqlj3nbf01srth34gpm80000gp/T/ipykernel_48580/1318804781.py:4: SettingWithCopyWarning: \n",
      "A value is trying to be set on a copy of a slice from a DataFrame.\n",
      "Try using .loc[row_indexer,col_indexer] = value instead\n",
      "\n",
      "See the caveats in the documentation: https://pandas.pydata.org/pandas-docs/stable/user_guide/indexing.html#returning-a-view-versus-a-copy\n",
      "  exit_customer[\"exit_date\"] = None\n",
      "/var/folders/8m/nh1dsqlj3nbf01srth34gpm80000gp/T/ipykernel_48580/1318804781.py:5: SettingWithCopyWarning: \n",
      "A value is trying to be set on a copy of a slice from a DataFrame.\n",
      "Try using .loc[row_indexer,col_indexer] = value instead\n",
      "\n",
      "See the caveats in the documentation: https://pandas.pydata.org/pandas-docs/stable/user_guide/indexing.html#returning-a-view-versus-a-copy\n",
      "  exit_customer[\"end_date\"] = pd.to_datetime(exit_customer[\"end_date\"])\n",
      "/Users/abe2/PycharmProjects/python_knock_100/venv/lib/python3.10/site-packages/pandas/core/indexing.py:1732: SettingWithCopyWarning: \n",
      "A value is trying to be set on a copy of a slice from a DataFrame\n",
      "\n",
      "See the caveats in the documentation: https://pandas.pydata.org/pandas-docs/stable/user_guide/indexing.html#returning-a-view-versus-a-copy\n",
      "  self._setitem_single_block(indexer, value, name)\n"
     ]
    },
    {
     "name": "stdout",
     "output_type": "stream",
     "text": [
      "33851\n"
     ]
    },
    {
     "name": "stderr",
     "output_type": "stream",
     "text": [
      "/var/folders/8m/nh1dsqlj3nbf01srth34gpm80000gp/T/ipykernel_48580/1318804781.py:8: SettingWithCopyWarning: \n",
      "A value is trying to be set on a copy of a slice from a DataFrame.\n",
      "Try using .loc[row_indexer,col_indexer] = value instead\n",
      "\n",
      "See the caveats in the documentation: https://pandas.pydata.org/pandas-docs/stable/user_guide/indexing.html#returning-a-view-versus-a-copy\n",
      "  exit_customer[\"exit_date\"] = pd.to_datetime(exit_customer[\"exit_date\"])\n",
      "/var/folders/8m/nh1dsqlj3nbf01srth34gpm80000gp/T/ipykernel_48580/1318804781.py:9: SettingWithCopyWarning: \n",
      "A value is trying to be set on a copy of a slice from a DataFrame.\n",
      "Try using .loc[row_indexer,col_indexer] = value instead\n",
      "\n",
      "See the caveats in the documentation: https://pandas.pydata.org/pandas-docs/stable/user_guide/indexing.html#returning-a-view-versus-a-copy\n",
      "  exit_customer[\"年月\"] = exit_customer[\"exit_date\"].dt.strftime(\"%Y%m\")\n"
     ]
    },
    {
     "data": {
      "text/plain": "       年月 customer_id  count_0  count_1 name class gender start_date end_date  \\\n0  201805    AS002855        5      4.0  NaN   NaN    NaN        NaN      NaT   \n1  201805    AS009373        4      3.0  NaN   NaN    NaN        NaN      NaT   \n2  201805    AS015233        7      NaN  NaN   NaN    NaN        NaN      NaT   \n3  201805    AS015315        3      6.0  NaN   NaN    NaN        NaN      NaT   \n4  201805    AS015739        5      7.0  NaN   NaN    NaN        NaN      NaT   \n\n  campaign_id  ...  price campaign_name  mean median  max  min  routine_flg  \\\n0         NaN  ...    NaN           NaN   NaN    NaN  NaN  NaN          NaN   \n1         NaN  ...    NaN           NaN   NaN    NaN  NaN  NaN          NaN   \n2         NaN  ...    NaN           NaN   NaN    NaN  NaN  NaN          NaN   \n3         NaN  ...    NaN           NaN   NaN    NaN  NaN  NaN          NaN   \n4         NaN  ...    NaN           NaN   NaN    NaN  NaN  NaN          NaN   \n\n   calc_date  membership_period exit_date  \n0        NaN                NaN       NaT  \n1        NaN                NaN       NaT  \n2        NaN                NaN       NaT  \n3        NaN                NaN       NaT  \n4        NaN                NaN       NaT  \n\n[5 rows x 22 columns]",
      "text/html": "<div>\n<style scoped>\n    .dataframe tbody tr th:only-of-type {\n        vertical-align: middle;\n    }\n\n    .dataframe tbody tr th {\n        vertical-align: top;\n    }\n\n    .dataframe thead th {\n        text-align: right;\n    }\n</style>\n<table border=\"1\" class=\"dataframe\">\n  <thead>\n    <tr style=\"text-align: right;\">\n      <th></th>\n      <th>年月</th>\n      <th>customer_id</th>\n      <th>count_0</th>\n      <th>count_1</th>\n      <th>name</th>\n      <th>class</th>\n      <th>gender</th>\n      <th>start_date</th>\n      <th>end_date</th>\n      <th>campaign_id</th>\n      <th>...</th>\n      <th>price</th>\n      <th>campaign_name</th>\n      <th>mean</th>\n      <th>median</th>\n      <th>max</th>\n      <th>min</th>\n      <th>routine_flg</th>\n      <th>calc_date</th>\n      <th>membership_period</th>\n      <th>exit_date</th>\n    </tr>\n  </thead>\n  <tbody>\n    <tr>\n      <th>0</th>\n      <td>201805</td>\n      <td>AS002855</td>\n      <td>5</td>\n      <td>4.0</td>\n      <td>NaN</td>\n      <td>NaN</td>\n      <td>NaN</td>\n      <td>NaN</td>\n      <td>NaT</td>\n      <td>NaN</td>\n      <td>...</td>\n      <td>NaN</td>\n      <td>NaN</td>\n      <td>NaN</td>\n      <td>NaN</td>\n      <td>NaN</td>\n      <td>NaN</td>\n      <td>NaN</td>\n      <td>NaN</td>\n      <td>NaN</td>\n      <td>NaT</td>\n    </tr>\n    <tr>\n      <th>1</th>\n      <td>201805</td>\n      <td>AS009373</td>\n      <td>4</td>\n      <td>3.0</td>\n      <td>NaN</td>\n      <td>NaN</td>\n      <td>NaN</td>\n      <td>NaN</td>\n      <td>NaT</td>\n      <td>NaN</td>\n      <td>...</td>\n      <td>NaN</td>\n      <td>NaN</td>\n      <td>NaN</td>\n      <td>NaN</td>\n      <td>NaN</td>\n      <td>NaN</td>\n      <td>NaN</td>\n      <td>NaN</td>\n      <td>NaN</td>\n      <td>NaT</td>\n    </tr>\n    <tr>\n      <th>2</th>\n      <td>201805</td>\n      <td>AS015233</td>\n      <td>7</td>\n      <td>NaN</td>\n      <td>NaN</td>\n      <td>NaN</td>\n      <td>NaN</td>\n      <td>NaN</td>\n      <td>NaT</td>\n      <td>NaN</td>\n      <td>...</td>\n      <td>NaN</td>\n      <td>NaN</td>\n      <td>NaN</td>\n      <td>NaN</td>\n      <td>NaN</td>\n      <td>NaN</td>\n      <td>NaN</td>\n      <td>NaN</td>\n      <td>NaN</td>\n      <td>NaT</td>\n    </tr>\n    <tr>\n      <th>3</th>\n      <td>201805</td>\n      <td>AS015315</td>\n      <td>3</td>\n      <td>6.0</td>\n      <td>NaN</td>\n      <td>NaN</td>\n      <td>NaN</td>\n      <td>NaN</td>\n      <td>NaT</td>\n      <td>NaN</td>\n      <td>...</td>\n      <td>NaN</td>\n      <td>NaN</td>\n      <td>NaN</td>\n      <td>NaN</td>\n      <td>NaN</td>\n      <td>NaN</td>\n      <td>NaN</td>\n      <td>NaN</td>\n      <td>NaN</td>\n      <td>NaT</td>\n    </tr>\n    <tr>\n      <th>4</th>\n      <td>201805</td>\n      <td>AS015739</td>\n      <td>5</td>\n      <td>7.0</td>\n      <td>NaN</td>\n      <td>NaN</td>\n      <td>NaN</td>\n      <td>NaN</td>\n      <td>NaT</td>\n      <td>NaN</td>\n      <td>...</td>\n      <td>NaN</td>\n      <td>NaN</td>\n      <td>NaN</td>\n      <td>NaN</td>\n      <td>NaN</td>\n      <td>NaN</td>\n      <td>NaN</td>\n      <td>NaN</td>\n      <td>NaN</td>\n      <td>NaT</td>\n    </tr>\n  </tbody>\n</table>\n<p>5 rows × 22 columns</p>\n</div>"
     },
     "execution_count": 8,
     "metadata": {},
     "output_type": "execute_result"
    }
   ],
   "source": [
    "from dateutil.relativedelta import relativedelta\n",
    "\n",
    "exit_customer = customer.loc[customer[\"is_deleted\"] == 1]\n",
    "exit_customer[\"exit_date\"] = None\n",
    "exit_customer[\"end_date\"] = pd.to_datetime(exit_customer[\"end_date\"])\n",
    "for i in range(len(exit_customer)):\n",
    "    exit_customer[\"exit_date\"].iloc[i] = exit_customer[\"end_date\"].iloc[i] - relativedelta(months=1)\n",
    "exit_customer[\"exit_date\"] = pd.to_datetime(exit_customer[\"exit_date\"])\n",
    "exit_customer[\"年月\"] = exit_customer[\"exit_date\"].dt.strftime(\"%Y%m\")\n",
    "uselog[\"年月\"] = uselog[\"年月\"].astype(str)\n",
    "exit_uselog = pd.merge(uselog, exit_customer, on=[\"customer_id\", \"年月\"], how=\"left\")\n",
    "print(len(uselog))\n",
    "exit_uselog.head()"
   ],
   "metadata": {
    "collapsed": false,
    "pycharm": {
     "name": "#%%\n"
    }
   }
  },
  {
   "cell_type": "code",
   "execution_count": 9,
   "outputs": [
    {
     "name": "stdout",
     "output_type": "stream",
     "text": [
      "1104\n",
      "1104\n"
     ]
    },
    {
     "data": {
      "text/plain": "         年月 customer_id  count_0  count_1   name class gender  start_date  \\\n19   201805    AS055680        3      3.0  XXXXX   C01      M  2018-03-01   \n57   201805    AS169823        2      3.0     XX   C01      M  2017-11-01   \n110  201805    AS305860        5      3.0   XXXX   C01      M  2017-06-01   \n128  201805    AS363699        5      3.0  XXXXX   C01      M  2018-02-01   \n147  201805    AS417696        1      4.0     XX   C03      F  2017-09-01   \n\n      end_date campaign_id  ...    price campaign_name      mean median  max  \\\n19  2018-06-30         CA1  ...  10500.0            通常  3.000000    3.0  3.0   \n57  2018-06-30         CA1  ...  10500.0            通常  3.000000    3.0  4.0   \n110 2018-06-30         CA1  ...  10500.0            通常  3.333333    3.0  5.0   \n128 2018-06-30         CA1  ...  10500.0            通常  3.333333    3.0  5.0   \n147 2018-06-30         CA1  ...   6000.0            通常  2.000000    1.0  4.0   \n\n     min  routine_flg   calc_date  membership_period  exit_date  \n19   3.0          0.0  2018-06-30                3.0 2018-05-30  \n57   2.0          1.0  2018-06-30                7.0 2018-05-30  \n110  2.0          0.0  2018-06-30               12.0 2018-05-30  \n128  2.0          0.0  2018-06-30                4.0 2018-05-30  \n147  1.0          0.0  2018-06-30                9.0 2018-05-30  \n\n[5 rows x 22 columns]",
      "text/html": "<div>\n<style scoped>\n    .dataframe tbody tr th:only-of-type {\n        vertical-align: middle;\n    }\n\n    .dataframe tbody tr th {\n        vertical-align: top;\n    }\n\n    .dataframe thead th {\n        text-align: right;\n    }\n</style>\n<table border=\"1\" class=\"dataframe\">\n  <thead>\n    <tr style=\"text-align: right;\">\n      <th></th>\n      <th>年月</th>\n      <th>customer_id</th>\n      <th>count_0</th>\n      <th>count_1</th>\n      <th>name</th>\n      <th>class</th>\n      <th>gender</th>\n      <th>start_date</th>\n      <th>end_date</th>\n      <th>campaign_id</th>\n      <th>...</th>\n      <th>price</th>\n      <th>campaign_name</th>\n      <th>mean</th>\n      <th>median</th>\n      <th>max</th>\n      <th>min</th>\n      <th>routine_flg</th>\n      <th>calc_date</th>\n      <th>membership_period</th>\n      <th>exit_date</th>\n    </tr>\n  </thead>\n  <tbody>\n    <tr>\n      <th>19</th>\n      <td>201805</td>\n      <td>AS055680</td>\n      <td>3</td>\n      <td>3.0</td>\n      <td>XXXXX</td>\n      <td>C01</td>\n      <td>M</td>\n      <td>2018-03-01</td>\n      <td>2018-06-30</td>\n      <td>CA1</td>\n      <td>...</td>\n      <td>10500.0</td>\n      <td>通常</td>\n      <td>3.000000</td>\n      <td>3.0</td>\n      <td>3.0</td>\n      <td>3.0</td>\n      <td>0.0</td>\n      <td>2018-06-30</td>\n      <td>3.0</td>\n      <td>2018-05-30</td>\n    </tr>\n    <tr>\n      <th>57</th>\n      <td>201805</td>\n      <td>AS169823</td>\n      <td>2</td>\n      <td>3.0</td>\n      <td>XX</td>\n      <td>C01</td>\n      <td>M</td>\n      <td>2017-11-01</td>\n      <td>2018-06-30</td>\n      <td>CA1</td>\n      <td>...</td>\n      <td>10500.0</td>\n      <td>通常</td>\n      <td>3.000000</td>\n      <td>3.0</td>\n      <td>4.0</td>\n      <td>2.0</td>\n      <td>1.0</td>\n      <td>2018-06-30</td>\n      <td>7.0</td>\n      <td>2018-05-30</td>\n    </tr>\n    <tr>\n      <th>110</th>\n      <td>201805</td>\n      <td>AS305860</td>\n      <td>5</td>\n      <td>3.0</td>\n      <td>XXXX</td>\n      <td>C01</td>\n      <td>M</td>\n      <td>2017-06-01</td>\n      <td>2018-06-30</td>\n      <td>CA1</td>\n      <td>...</td>\n      <td>10500.0</td>\n      <td>通常</td>\n      <td>3.333333</td>\n      <td>3.0</td>\n      <td>5.0</td>\n      <td>2.0</td>\n      <td>0.0</td>\n      <td>2018-06-30</td>\n      <td>12.0</td>\n      <td>2018-05-30</td>\n    </tr>\n    <tr>\n      <th>128</th>\n      <td>201805</td>\n      <td>AS363699</td>\n      <td>5</td>\n      <td>3.0</td>\n      <td>XXXXX</td>\n      <td>C01</td>\n      <td>M</td>\n      <td>2018-02-01</td>\n      <td>2018-06-30</td>\n      <td>CA1</td>\n      <td>...</td>\n      <td>10500.0</td>\n      <td>通常</td>\n      <td>3.333333</td>\n      <td>3.0</td>\n      <td>5.0</td>\n      <td>2.0</td>\n      <td>0.0</td>\n      <td>2018-06-30</td>\n      <td>4.0</td>\n      <td>2018-05-30</td>\n    </tr>\n    <tr>\n      <th>147</th>\n      <td>201805</td>\n      <td>AS417696</td>\n      <td>1</td>\n      <td>4.0</td>\n      <td>XX</td>\n      <td>C03</td>\n      <td>F</td>\n      <td>2017-09-01</td>\n      <td>2018-06-30</td>\n      <td>CA1</td>\n      <td>...</td>\n      <td>6000.0</td>\n      <td>通常</td>\n      <td>2.000000</td>\n      <td>1.0</td>\n      <td>4.0</td>\n      <td>1.0</td>\n      <td>0.0</td>\n      <td>2018-06-30</td>\n      <td>9.0</td>\n      <td>2018-05-30</td>\n    </tr>\n  </tbody>\n</table>\n<p>5 rows × 22 columns</p>\n</div>"
     },
     "execution_count": 9,
     "metadata": {},
     "output_type": "execute_result"
    }
   ],
   "source": [
    "exit_uselog = exit_uselog.dropna(subset=[\"name\"])\n",
    "print(len(exit_uselog))\n",
    "print(len(exit_uselog[\"customer_id\"].unique()))\n",
    "exit_uselog.head()"
   ],
   "metadata": {
    "collapsed": false,
    "pycharm": {
     "name": "#%%\n"
    }
   }
  },
  {
   "cell_type": "markdown",
   "source": [
    "## ノック43"
   ],
   "metadata": {
    "collapsed": false,
    "pycharm": {
     "name": "#%% md\n"
    }
   }
  },
  {
   "cell_type": "code",
   "execution_count": 13,
   "outputs": [
    {
     "name": "stdout",
     "output_type": "stream",
     "text": [
      "33851\n",
      "27422\n"
     ]
    }
   ],
   "source": [
    "conti_customer = customer.loc[customer[\"is_deleted\"] == 0]\n",
    "conti_uselog = pd.merge(uselog, conti_customer, on=[\"customer_id\"], how=\"left\")\n",
    "print(len(conti_uselog))\n",
    "conti_uselog = conti_uselog.dropna(subset=[\"name\"])\n",
    "print(len(conti_uselog))"
   ],
   "metadata": {
    "collapsed": false,
    "pycharm": {
     "name": "#%%\n"
    }
   }
  },
  {
   "cell_type": "code",
   "execution_count": 15,
   "outputs": [
    {
     "name": "stdout",
     "output_type": "stream",
     "text": [
      "2842\n"
     ]
    },
    {
     "data": {
      "text/plain": "       年月 customer_id  count_0  count_1    name class gender  start_date  \\\n0  201903    PL326209        8      6.0    XXXX   C01      M  2019-01-12   \n1  201903    PL941345        3      5.0    XXXX   C01      F  2016-06-01   \n2  201902    OA286310        2      3.0     XXX   C01      F  2016-10-01   \n3  201811    OA072075        7      5.0      XX   C03      F  2017-01-01   \n4  201805    GD649455        3      6.0  XXXXXX   C01      M  2015-11-01   \n\n  end_date campaign_id  ...  class_name    price  campaign_name      mean  \\\n0      NaN         CA1  ...      オールタイム  10500.0             通常  7.666667   \n1      NaN         CA1  ...      オールタイム  10500.0             通常  4.583333   \n2      NaN         CA1  ...      オールタイム  10500.0             通常  4.666667   \n3      NaN         CA1  ...         ナイト   6000.0             通常  5.250000   \n4      NaN         CA1  ...      オールタイム  10500.0             通常  5.000000   \n\n   median  max  min  routine_flg   calc_date membership_period  \n0     8.0  9.0  6.0          1.0  2019-04-30               3.0  \n1     5.0  7.0  2.0          1.0  2019-04-30              34.0  \n2     5.0  7.0  2.0          1.0  2019-04-30              30.0  \n3     5.0  8.0  3.0          1.0  2019-04-30              27.0  \n4     4.5  8.0  3.0          1.0  2019-04-30              41.0  \n\n[5 rows x 21 columns]",
      "text/html": "<div>\n<style scoped>\n    .dataframe tbody tr th:only-of-type {\n        vertical-align: middle;\n    }\n\n    .dataframe tbody tr th {\n        vertical-align: top;\n    }\n\n    .dataframe thead th {\n        text-align: right;\n    }\n</style>\n<table border=\"1\" class=\"dataframe\">\n  <thead>\n    <tr style=\"text-align: right;\">\n      <th></th>\n      <th>年月</th>\n      <th>customer_id</th>\n      <th>count_0</th>\n      <th>count_1</th>\n      <th>name</th>\n      <th>class</th>\n      <th>gender</th>\n      <th>start_date</th>\n      <th>end_date</th>\n      <th>campaign_id</th>\n      <th>...</th>\n      <th>class_name</th>\n      <th>price</th>\n      <th>campaign_name</th>\n      <th>mean</th>\n      <th>median</th>\n      <th>max</th>\n      <th>min</th>\n      <th>routine_flg</th>\n      <th>calc_date</th>\n      <th>membership_period</th>\n    </tr>\n  </thead>\n  <tbody>\n    <tr>\n      <th>0</th>\n      <td>201903</td>\n      <td>PL326209</td>\n      <td>8</td>\n      <td>6.0</td>\n      <td>XXXX</td>\n      <td>C01</td>\n      <td>M</td>\n      <td>2019-01-12</td>\n      <td>NaN</td>\n      <td>CA1</td>\n      <td>...</td>\n      <td>オールタイム</td>\n      <td>10500.0</td>\n      <td>通常</td>\n      <td>7.666667</td>\n      <td>8.0</td>\n      <td>9.0</td>\n      <td>6.0</td>\n      <td>1.0</td>\n      <td>2019-04-30</td>\n      <td>3.0</td>\n    </tr>\n    <tr>\n      <th>1</th>\n      <td>201903</td>\n      <td>PL941345</td>\n      <td>3</td>\n      <td>5.0</td>\n      <td>XXXX</td>\n      <td>C01</td>\n      <td>F</td>\n      <td>2016-06-01</td>\n      <td>NaN</td>\n      <td>CA1</td>\n      <td>...</td>\n      <td>オールタイム</td>\n      <td>10500.0</td>\n      <td>通常</td>\n      <td>4.583333</td>\n      <td>5.0</td>\n      <td>7.0</td>\n      <td>2.0</td>\n      <td>1.0</td>\n      <td>2019-04-30</td>\n      <td>34.0</td>\n    </tr>\n    <tr>\n      <th>2</th>\n      <td>201902</td>\n      <td>OA286310</td>\n      <td>2</td>\n      <td>3.0</td>\n      <td>XXX</td>\n      <td>C01</td>\n      <td>F</td>\n      <td>2016-10-01</td>\n      <td>NaN</td>\n      <td>CA1</td>\n      <td>...</td>\n      <td>オールタイム</td>\n      <td>10500.0</td>\n      <td>通常</td>\n      <td>4.666667</td>\n      <td>5.0</td>\n      <td>7.0</td>\n      <td>2.0</td>\n      <td>1.0</td>\n      <td>2019-04-30</td>\n      <td>30.0</td>\n    </tr>\n    <tr>\n      <th>3</th>\n      <td>201811</td>\n      <td>OA072075</td>\n      <td>7</td>\n      <td>5.0</td>\n      <td>XX</td>\n      <td>C03</td>\n      <td>F</td>\n      <td>2017-01-01</td>\n      <td>NaN</td>\n      <td>CA1</td>\n      <td>...</td>\n      <td>ナイト</td>\n      <td>6000.0</td>\n      <td>通常</td>\n      <td>5.250000</td>\n      <td>5.0</td>\n      <td>8.0</td>\n      <td>3.0</td>\n      <td>1.0</td>\n      <td>2019-04-30</td>\n      <td>27.0</td>\n    </tr>\n    <tr>\n      <th>4</th>\n      <td>201805</td>\n      <td>GD649455</td>\n      <td>3</td>\n      <td>6.0</td>\n      <td>XXXXXX</td>\n      <td>C01</td>\n      <td>M</td>\n      <td>2015-11-01</td>\n      <td>NaN</td>\n      <td>CA1</td>\n      <td>...</td>\n      <td>オールタイム</td>\n      <td>10500.0</td>\n      <td>通常</td>\n      <td>5.000000</td>\n      <td>4.5</td>\n      <td>8.0</td>\n      <td>3.0</td>\n      <td>1.0</td>\n      <td>2019-04-30</td>\n      <td>41.0</td>\n    </tr>\n  </tbody>\n</table>\n<p>5 rows × 21 columns</p>\n</div>"
     },
     "execution_count": 15,
     "metadata": {},
     "output_type": "execute_result"
    }
   ],
   "source": [
    "conti_uselog = conti_uselog.sample(frac=1).reset_index(drop=True)\n",
    "conti_uselog = conti_uselog.drop_duplicates(subset=[\"customer_id\"])\n",
    "print(len(conti_uselog))\n",
    "conti_uselog.head()"
   ],
   "metadata": {
    "collapsed": false,
    "pycharm": {
     "name": "#%%\n"
    }
   }
  },
  {
   "cell_type": "code",
   "execution_count": 18,
   "outputs": [
    {
     "name": "stdout",
     "output_type": "stream",
     "text": [
      "3946\n"
     ]
    },
    {
     "data": {
      "text/plain": "       年月 customer_id  count_0  count_1    name class gender  start_date  \\\n0  201903    PL326209        8      6.0    XXXX   C01      M  2019-01-12   \n1  201903    PL941345        3      5.0    XXXX   C01      F  2016-06-01   \n2  201902    OA286310        2      3.0     XXX   C01      F  2016-10-01   \n3  201811    OA072075        7      5.0      XX   C03      F  2017-01-01   \n4  201805    GD649455        3      6.0  XXXXXX   C01      M  2015-11-01   \n\n  end_date campaign_id  ...    price campaign_name      mean median  max  min  \\\n0      NaN         CA1  ...  10500.0            通常  7.666667    8.0  9.0  6.0   \n1      NaN         CA1  ...  10500.0            通常  4.583333    5.0  7.0  2.0   \n2      NaN         CA1  ...  10500.0            通常  4.666667    5.0  7.0  2.0   \n3      NaN         CA1  ...   6000.0            通常  5.250000    5.0  8.0  3.0   \n4      NaN         CA1  ...  10500.0            通常  5.000000    4.5  8.0  3.0   \n\n   routine_flg   calc_date  membership_period exit_date  \n0          1.0  2019-04-30                3.0       NaT  \n1          1.0  2019-04-30               34.0       NaT  \n2          1.0  2019-04-30               30.0       NaT  \n3          1.0  2019-04-30               27.0       NaT  \n4          1.0  2019-04-30               41.0       NaT  \n\n[5 rows x 22 columns]",
      "text/html": "<div>\n<style scoped>\n    .dataframe tbody tr th:only-of-type {\n        vertical-align: middle;\n    }\n\n    .dataframe tbody tr th {\n        vertical-align: top;\n    }\n\n    .dataframe thead th {\n        text-align: right;\n    }\n</style>\n<table border=\"1\" class=\"dataframe\">\n  <thead>\n    <tr style=\"text-align: right;\">\n      <th></th>\n      <th>年月</th>\n      <th>customer_id</th>\n      <th>count_0</th>\n      <th>count_1</th>\n      <th>name</th>\n      <th>class</th>\n      <th>gender</th>\n      <th>start_date</th>\n      <th>end_date</th>\n      <th>campaign_id</th>\n      <th>...</th>\n      <th>price</th>\n      <th>campaign_name</th>\n      <th>mean</th>\n      <th>median</th>\n      <th>max</th>\n      <th>min</th>\n      <th>routine_flg</th>\n      <th>calc_date</th>\n      <th>membership_period</th>\n      <th>exit_date</th>\n    </tr>\n  </thead>\n  <tbody>\n    <tr>\n      <th>0</th>\n      <td>201903</td>\n      <td>PL326209</td>\n      <td>8</td>\n      <td>6.0</td>\n      <td>XXXX</td>\n      <td>C01</td>\n      <td>M</td>\n      <td>2019-01-12</td>\n      <td>NaN</td>\n      <td>CA1</td>\n      <td>...</td>\n      <td>10500.0</td>\n      <td>通常</td>\n      <td>7.666667</td>\n      <td>8.0</td>\n      <td>9.0</td>\n      <td>6.0</td>\n      <td>1.0</td>\n      <td>2019-04-30</td>\n      <td>3.0</td>\n      <td>NaT</td>\n    </tr>\n    <tr>\n      <th>1</th>\n      <td>201903</td>\n      <td>PL941345</td>\n      <td>3</td>\n      <td>5.0</td>\n      <td>XXXX</td>\n      <td>C01</td>\n      <td>F</td>\n      <td>2016-06-01</td>\n      <td>NaN</td>\n      <td>CA1</td>\n      <td>...</td>\n      <td>10500.0</td>\n      <td>通常</td>\n      <td>4.583333</td>\n      <td>5.0</td>\n      <td>7.0</td>\n      <td>2.0</td>\n      <td>1.0</td>\n      <td>2019-04-30</td>\n      <td>34.0</td>\n      <td>NaT</td>\n    </tr>\n    <tr>\n      <th>2</th>\n      <td>201902</td>\n      <td>OA286310</td>\n      <td>2</td>\n      <td>3.0</td>\n      <td>XXX</td>\n      <td>C01</td>\n      <td>F</td>\n      <td>2016-10-01</td>\n      <td>NaN</td>\n      <td>CA1</td>\n      <td>...</td>\n      <td>10500.0</td>\n      <td>通常</td>\n      <td>4.666667</td>\n      <td>5.0</td>\n      <td>7.0</td>\n      <td>2.0</td>\n      <td>1.0</td>\n      <td>2019-04-30</td>\n      <td>30.0</td>\n      <td>NaT</td>\n    </tr>\n    <tr>\n      <th>3</th>\n      <td>201811</td>\n      <td>OA072075</td>\n      <td>7</td>\n      <td>5.0</td>\n      <td>XX</td>\n      <td>C03</td>\n      <td>F</td>\n      <td>2017-01-01</td>\n      <td>NaN</td>\n      <td>CA1</td>\n      <td>...</td>\n      <td>6000.0</td>\n      <td>通常</td>\n      <td>5.250000</td>\n      <td>5.0</td>\n      <td>8.0</td>\n      <td>3.0</td>\n      <td>1.0</td>\n      <td>2019-04-30</td>\n      <td>27.0</td>\n      <td>NaT</td>\n    </tr>\n    <tr>\n      <th>4</th>\n      <td>201805</td>\n      <td>GD649455</td>\n      <td>3</td>\n      <td>6.0</td>\n      <td>XXXXXX</td>\n      <td>C01</td>\n      <td>M</td>\n      <td>2015-11-01</td>\n      <td>NaN</td>\n      <td>CA1</td>\n      <td>...</td>\n      <td>10500.0</td>\n      <td>通常</td>\n      <td>5.000000</td>\n      <td>4.5</td>\n      <td>8.0</td>\n      <td>3.0</td>\n      <td>1.0</td>\n      <td>2019-04-30</td>\n      <td>41.0</td>\n      <td>NaT</td>\n    </tr>\n  </tbody>\n</table>\n<p>5 rows × 22 columns</p>\n</div>"
     },
     "execution_count": 18,
     "metadata": {},
     "output_type": "execute_result"
    }
   ],
   "source": [
    "predict_data = pd.concat([conti_uselog, exit_uselog], ignore_index=True)\n",
    "print(len(predict_data))\n",
    "predict_data.head()"
   ],
   "metadata": {
    "collapsed": false,
    "pycharm": {
     "name": "#%%\n"
    }
   }
  },
  {
   "cell_type": "markdown",
   "source": [
    "## ノック44"
   ],
   "metadata": {
    "collapsed": false,
    "pycharm": {
     "name": "#%% md\n"
    }
   }
  },
  {
   "cell_type": "code",
   "execution_count": 21,
   "outputs": [
    {
     "name": "stderr",
     "output_type": "stream",
     "text": [
      "/var/folders/8m/nh1dsqlj3nbf01srth34gpm80000gp/T/ipykernel_48580/917698760.py:6: SettingWithCopyWarning: \n",
      "A value is trying to be set on a copy of a slice from a DataFrame\n",
      "\n",
      "See the caveats in the documentation: https://pandas.pydata.org/pandas-docs/stable/user_guide/indexing.html#returning-a-view-versus-a-copy\n",
      "  predict_data[\"period\"][i] = int(delta.years * 12 + delta.months)\n"
     ]
    },
    {
     "data": {
      "text/plain": "       年月 customer_id  count_0  count_1    name class gender start_date  \\\n0  201903    PL326209        8      6.0    XXXX   C01      M 2019-01-12   \n1  201903    PL941345        3      5.0    XXXX   C01      F 2016-06-01   \n2  201902    OA286310        2      3.0     XXX   C01      F 2016-10-01   \n3  201811    OA072075        7      5.0      XX   C03      F 2017-01-01   \n4  201805    GD649455        3      6.0  XXXXXX   C01      M 2015-11-01   \n\n  end_date campaign_id  ...      mean median  max  min  routine_flg  \\\n0      NaN         CA1  ...  7.666667    8.0  9.0  6.0          1.0   \n1      NaN         CA1  ...  4.583333    5.0  7.0  2.0          1.0   \n2      NaN         CA1  ...  4.666667    5.0  7.0  2.0          1.0   \n3      NaN         CA1  ...  5.250000    5.0  8.0  3.0          1.0   \n4      NaN         CA1  ...  5.000000    4.5  8.0  3.0          1.0   \n\n    calc_date  membership_period  exit_date  period   now_date  \n0  2019-04-30                3.0        NaT       1 2019-03-01  \n1  2019-04-30               34.0        NaT      33 2019-03-01  \n2  2019-04-30               30.0        NaT      28 2019-02-01  \n3  2019-04-30               27.0        NaT      22 2018-11-01  \n4  2019-04-30               41.0        NaT      30 2018-05-01  \n\n[5 rows x 24 columns]",
      "text/html": "<div>\n<style scoped>\n    .dataframe tbody tr th:only-of-type {\n        vertical-align: middle;\n    }\n\n    .dataframe tbody tr th {\n        vertical-align: top;\n    }\n\n    .dataframe thead th {\n        text-align: right;\n    }\n</style>\n<table border=\"1\" class=\"dataframe\">\n  <thead>\n    <tr style=\"text-align: right;\">\n      <th></th>\n      <th>年月</th>\n      <th>customer_id</th>\n      <th>count_0</th>\n      <th>count_1</th>\n      <th>name</th>\n      <th>class</th>\n      <th>gender</th>\n      <th>start_date</th>\n      <th>end_date</th>\n      <th>campaign_id</th>\n      <th>...</th>\n      <th>mean</th>\n      <th>median</th>\n      <th>max</th>\n      <th>min</th>\n      <th>routine_flg</th>\n      <th>calc_date</th>\n      <th>membership_period</th>\n      <th>exit_date</th>\n      <th>period</th>\n      <th>now_date</th>\n    </tr>\n  </thead>\n  <tbody>\n    <tr>\n      <th>0</th>\n      <td>201903</td>\n      <td>PL326209</td>\n      <td>8</td>\n      <td>6.0</td>\n      <td>XXXX</td>\n      <td>C01</td>\n      <td>M</td>\n      <td>2019-01-12</td>\n      <td>NaN</td>\n      <td>CA1</td>\n      <td>...</td>\n      <td>7.666667</td>\n      <td>8.0</td>\n      <td>9.0</td>\n      <td>6.0</td>\n      <td>1.0</td>\n      <td>2019-04-30</td>\n      <td>3.0</td>\n      <td>NaT</td>\n      <td>1</td>\n      <td>2019-03-01</td>\n    </tr>\n    <tr>\n      <th>1</th>\n      <td>201903</td>\n      <td>PL941345</td>\n      <td>3</td>\n      <td>5.0</td>\n      <td>XXXX</td>\n      <td>C01</td>\n      <td>F</td>\n      <td>2016-06-01</td>\n      <td>NaN</td>\n      <td>CA1</td>\n      <td>...</td>\n      <td>4.583333</td>\n      <td>5.0</td>\n      <td>7.0</td>\n      <td>2.0</td>\n      <td>1.0</td>\n      <td>2019-04-30</td>\n      <td>34.0</td>\n      <td>NaT</td>\n      <td>33</td>\n      <td>2019-03-01</td>\n    </tr>\n    <tr>\n      <th>2</th>\n      <td>201902</td>\n      <td>OA286310</td>\n      <td>2</td>\n      <td>3.0</td>\n      <td>XXX</td>\n      <td>C01</td>\n      <td>F</td>\n      <td>2016-10-01</td>\n      <td>NaN</td>\n      <td>CA1</td>\n      <td>...</td>\n      <td>4.666667</td>\n      <td>5.0</td>\n      <td>7.0</td>\n      <td>2.0</td>\n      <td>1.0</td>\n      <td>2019-04-30</td>\n      <td>30.0</td>\n      <td>NaT</td>\n      <td>28</td>\n      <td>2019-02-01</td>\n    </tr>\n    <tr>\n      <th>3</th>\n      <td>201811</td>\n      <td>OA072075</td>\n      <td>7</td>\n      <td>5.0</td>\n      <td>XX</td>\n      <td>C03</td>\n      <td>F</td>\n      <td>2017-01-01</td>\n      <td>NaN</td>\n      <td>CA1</td>\n      <td>...</td>\n      <td>5.250000</td>\n      <td>5.0</td>\n      <td>8.0</td>\n      <td>3.0</td>\n      <td>1.0</td>\n      <td>2019-04-30</td>\n      <td>27.0</td>\n      <td>NaT</td>\n      <td>22</td>\n      <td>2018-11-01</td>\n    </tr>\n    <tr>\n      <th>4</th>\n      <td>201805</td>\n      <td>GD649455</td>\n      <td>3</td>\n      <td>6.0</td>\n      <td>XXXXXX</td>\n      <td>C01</td>\n      <td>M</td>\n      <td>2015-11-01</td>\n      <td>NaN</td>\n      <td>CA1</td>\n      <td>...</td>\n      <td>5.000000</td>\n      <td>4.5</td>\n      <td>8.0</td>\n      <td>3.0</td>\n      <td>1.0</td>\n      <td>2019-04-30</td>\n      <td>41.0</td>\n      <td>NaT</td>\n      <td>30</td>\n      <td>2018-05-01</td>\n    </tr>\n  </tbody>\n</table>\n<p>5 rows × 24 columns</p>\n</div>"
     },
     "execution_count": 21,
     "metadata": {},
     "output_type": "execute_result"
    }
   ],
   "source": [
    "predict_data[\"period\"] = 0\n",
    "predict_data[\"now_date\"] = pd.to_datetime(predict_data[\"年月\"], format=\"%Y%m\")\n",
    "predict_data[\"start_date\"] = pd.to_datetime(predict_data[\"start_date\"])\n",
    "for i in range(len(predict_data)):\n",
    "    delta = relativedelta(predict_data[\"now_date\"][i], predict_data[\"start_date\"][i])\n",
    "    predict_data[\"period\"][i] = int(delta.years * 12 + delta.months)\n",
    "predict_data.head()"
   ],
   "metadata": {
    "collapsed": false,
    "pycharm": {
     "name": "#%%\n"
    }
   }
  },
  {
   "cell_type": "code",
   "execution_count": null,
   "outputs": [],
   "source": [],
   "metadata": {
    "collapsed": false,
    "pycharm": {
     "name": "#%%\n"
    }
   }
  }
 ],
 "metadata": {
  "kernelspec": {
   "display_name": "Python 3",
   "language": "python",
   "name": "python3"
  },
  "language_info": {
   "codemirror_mode": {
    "name": "ipython",
    "version": 2
   },
   "file_extension": ".py",
   "mimetype": "text/x-python",
   "name": "python",
   "nbconvert_exporter": "python",
   "pygments_lexer": "ipython2",
   "version": "2.7.6"
  }
 },
 "nbformat": 4,
 "nbformat_minor": 0
}